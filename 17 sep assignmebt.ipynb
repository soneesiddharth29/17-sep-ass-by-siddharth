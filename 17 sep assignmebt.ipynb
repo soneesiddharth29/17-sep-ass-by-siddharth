{
 "cells": [
  {
   "cell_type": "markdown",
   "id": "63210e6b-086e-46f2-89d1-6c75553faf15",
   "metadata": {},
   "source": [
    "For Loop :-\n",
    "\n",
    "q.1 Write a Python program to print numbers from 1 to 10 using a for loop.\n"
   ]
  },
  {
   "cell_type": "code",
   "execution_count": 1,
   "id": "c027cb91-2de5-4adb-a0f6-d0eaa603cb6f",
   "metadata": {},
   "outputs": [
    {
     "name": "stdout",
     "output_type": "stream",
     "text": [
      "1\n",
      "2\n",
      "3\n",
      "4\n",
      "5\n",
      "6\n",
      "7\n",
      "8\n",
      "9\n",
      "10\n"
     ]
    }
   ],
   "source": [
    "# Print numbers from 1 to 10 using a for loop\n",
    "for number in range(1, 11):\n",
    "    print(number)\n"
   ]
  },
  {
   "cell_type": "markdown",
   "id": "1c2b6454-3efa-4eba-a16c-6596445e65b8",
   "metadata": {},
   "source": [
    "q.2 Explain the difference between a for loop and a while loop in Python."
   ]
  },
  {
   "cell_type": "code",
   "execution_count": 2,
   "id": "4a64024a-785b-4948-bb44-c58c6392b84c",
   "metadata": {},
   "outputs": [
    {
     "name": "stdout",
     "output_type": "stream",
     "text": [
      "1\n",
      "2\n",
      "3\n",
      "4\n",
      "5\n"
     ]
    }
   ],
   "source": [
    "for i in range(1, 6):\n",
    "    print(i)\n"
   ]
  },
  {
   "cell_type": "code",
   "execution_count": 3,
   "id": "b6bd3225-3bf8-4efa-9f5b-b7f599f246d9",
   "metadata": {},
   "outputs": [
    {
     "name": "stdout",
     "output_type": "stream",
     "text": [
      "1\n",
      "2\n",
      "3\n",
      "4\n",
      "5\n"
     ]
    }
   ],
   "source": [
    "num = 1\n",
    "while num <= 5:\n",
    "    print(num)\n",
    "    num += 1\n"
   ]
  },
  {
   "cell_type": "markdown",
   "id": "59e749ea-b5e5-460d-833c-a7f044fa3d81",
   "metadata": {},
   "source": [
    "q.3 Write a Python program to calculate the sum of all numbers from 1 to 100 using a for loop.\n"
   ]
  },
  {
   "cell_type": "code",
   "execution_count": 4,
   "id": "c8199b3b-e54a-4c2a-ae0c-052f0d292d67",
   "metadata": {},
   "outputs": [
    {
     "name": "stdout",
     "output_type": "stream",
     "text": [
      "The sum of all numbers from 1 to 100 is: 5050\n"
     ]
    }
   ],
   "source": [
    "# Initialize a variable to store the sum\n",
    "total_sum = 0\n",
    "\n",
    "# Use a for loop to iterate through numbers from 1 to 100\n",
    "for number in range(1, 101):\n",
    "    total_sum += number\n",
    "\n",
    "# Print the sum\n",
    "print(\"The sum of all numbers from 1 to 100 is:\", total_sum)\n"
   ]
  },
  {
   "cell_type": "code",
   "execution_count": 1,
   "id": "1477b4fc-b5cf-4755-8540-3c0b47b7490c",
   "metadata": {},
   "outputs": [
    {
     "name": "stdout",
     "output_type": "stream",
     "text": [
      "Object `Python` not found.\n"
     ]
    }
   ],
   "source": [
    "q.4 How do you iterate through a list using a for loop in Python?\n"
   ]
  },
  {
   "cell_type": "code",
   "execution_count": 2,
   "id": "7499b30c-e60f-4166-a6b4-0af22777f57e",
   "metadata": {},
   "outputs": [
    {
     "name": "stdout",
     "output_type": "stream",
     "text": [
      "1\n",
      "2\n",
      "3\n",
      "4\n",
      "5\n"
     ]
    }
   ],
   "source": [
    "my_list = [1, 2, 3, 4, 5]\n",
    "\n",
    "for item in my_list:\n",
    "    # Do something with 'item'\n",
    "    print(item)\n"
   ]
  },
  {
   "cell_type": "markdown",
   "id": "5e230448-955d-465e-bddb-8cd8c910a38d",
   "metadata": {},
   "source": [
    "In Python, you can iterate through a list using a for loop. Here's the basic syntax for iterating through a list"
   ]
  },
  {
   "cell_type": "markdown",
   "id": "aee90541-6b48-4cd6-8d4b-b2371738b439",
   "metadata": {},
   "source": [
    "q.5 Write a Python program to find the product of all elements in a list using a for loop."
   ]
  },
  {
   "cell_type": "code",
   "execution_count": 3,
   "id": "4bcaacaa-f8af-4986-a62b-1265b2ef8705",
   "metadata": {},
   "outputs": [
    {
     "name": "stdout",
     "output_type": "stream",
     "text": [
      "The product of all elements in the list is: 120\n"
     ]
    }
   ],
   "source": [
    "# Define a list of numbers\n",
    "my_list = [1, 2, 3, 4, 5]\n",
    "\n",
    "# Initialize a variable to store the product\n",
    "product = 1\n",
    "\n",
    "# Iterate through the list and calculate the product\n",
    "for num in my_list:\n",
    "    product *= num\n",
    "\n",
    "# Print the result\n",
    "print(\"The product of all elements in the list is:\", product)\n"
   ]
  },
  {
   "cell_type": "markdown",
   "id": "6b38f759-9a74-4450-ad89-6ddf42a635b9",
   "metadata": {},
   "source": [
    "q.6 Create a Python program that prints all even numbers from 1 to 20 using a for loop."
   ]
  },
  {
   "cell_type": "code",
   "execution_count": 4,
   "id": "f04a6d9e-ecd5-437d-9179-782f4c50e9f6",
   "metadata": {},
   "outputs": [
    {
     "name": "stdout",
     "output_type": "stream",
     "text": [
      "2\n",
      "4\n",
      "6\n",
      "8\n",
      "10\n",
      "12\n",
      "14\n",
      "16\n",
      "18\n",
      "20\n"
     ]
    }
   ],
   "source": [
    "# Using a for loop to print even numbers from 1 to 20\n",
    "for number in range(2, 21, 2):\n",
    "    print(number)\n"
   ]
  },
  {
   "cell_type": "markdown",
   "id": "3ceb2e31-aa22-48c1-82be-e102f6011b76",
   "metadata": {},
   "source": [
    "q.7 Write a Python program that calculates the factorial of a number using a for loop."
   ]
  },
  {
   "cell_type": "code",
   "execution_count": 5,
   "id": "d1e3bd23-8c9b-4ebf-9186-5bfefdc2a938",
   "metadata": {},
   "outputs": [
    {
     "name": "stdin",
     "output_type": "stream",
     "text": [
      "Enter a number:  8\n"
     ]
    },
    {
     "name": "stdout",
     "output_type": "stream",
     "text": [
      "The factorial of 8 is 40320\n"
     ]
    }
   ],
   "source": [
    "# Input: Get the number from the user\n",
    "num = int(input(\"Enter a number: \"))\n",
    "\n",
    "# Initialize a variable to store the factorial\n",
    "factorial = 1\n",
    "\n",
    "# Check if the input is negative\n",
    "if num < 0:\n",
    "    print(\"Factorial is not defined for negative numbers.\")\n",
    "elif num == 0:\n",
    "    print(\"The factorial of 0 is 1\")\n",
    "else:\n",
    "    # Calculate the factorial using a for loop\n",
    "    for i in range(1, num + 1):\n",
    "        factorial *= i\n",
    "\n",
    "    # Print the result\n",
    "    print(f\"The factorial of {num} is {factorial}\")\n"
   ]
  },
  {
   "cell_type": "markdown",
   "id": "79f3a08c-6860-4074-b4ec-dbe73e1169e4",
   "metadata": {},
   "source": [
    "q.8 How can you iterate through the characters of a string using a for loop in Python"
   ]
  },
  {
   "cell_type": "code",
   "execution_count": 6,
   "id": "30d2d5c0-3775-4df8-97d5-5d7e2b5640a6",
   "metadata": {},
   "outputs": [
    {
     "name": "stdout",
     "output_type": "stream",
     "text": [
      "H\n",
      "e\n",
      "l\n",
      "l\n",
      "o\n",
      ",\n",
      " \n",
      "W\n",
      "o\n",
      "r\n",
      "l\n",
      "d\n",
      "!\n"
     ]
    }
   ],
   "source": [
    "my_string = \"Hello, World!\"\n",
    "\n",
    "for char in my_string:\n",
    "    # Do something with 'char'\n",
    "    print(char)\n"
   ]
  },
  {
   "cell_type": "markdown",
   "id": "2708578e-d024-45b4-b519-fc9fda6f3c66",
   "metadata": {},
   "source": [
    "q.9 Write a Python program to find the largest number in a list using a for loop."
   ]
  },
  {
   "cell_type": "code",
   "execution_count": 7,
   "id": "b81f0c77-c6b8-4a04-bd27-34c641c49b4a",
   "metadata": {},
   "outputs": [
    {
     "name": "stdout",
     "output_type": "stream",
     "text": [
      "The largest number in the list is: 42\n"
     ]
    }
   ],
   "source": [
    "# Define a list of numbers\n",
    "my_list = [10, 25, 7, 42, 18, 6, 31]\n",
    "\n",
    "# Initialize a variable to store the maximum value\n",
    "max_num = my_list[0]  # Assuming the first element is the maximum initially\n",
    "\n",
    "# Iterate through the list to find the maximum\n",
    "for num in my_list:\n",
    "    if num > max_num:\n",
    "        max_num = num\n",
    "\n",
    "# Print the result\n",
    "print(\"The largest number in the list is:\", max_num)\n"
   ]
  },
  {
   "cell_type": "markdown",
   "id": "e116b5da-0c2e-4700-99eb-87dae03eb589",
   "metadata": {},
   "source": [
    "q.10 Create a Python program that prints the Fibonacci sequence up to a specified limit using a for loop"
   ]
  },
  {
   "cell_type": "code",
   "execution_count": 8,
   "id": "e22aeea5-a5cc-410f-8598-e22c9a023c1f",
   "metadata": {},
   "outputs": [
    {
     "name": "stdin",
     "output_type": "stream",
     "text": [
      "Enter the limit for the Fibonacci sequence:  20\n"
     ]
    },
    {
     "name": "stdout",
     "output_type": "stream",
     "text": [
      "Fibonacci sequence up to 20 :\n",
      "0\n",
      "1\n",
      "1\n",
      "2\n",
      "3\n",
      "5\n",
      "8\n",
      "13\n"
     ]
    }
   ],
   "source": [
    "# Function to generate the Fibonacci sequence up to a specified limit\n",
    "def generate_fibonacci(limit):\n",
    "    fibonacci_sequence = []\n",
    "    a, b = 0, 1\n",
    "\n",
    "    while a <= limit:\n",
    "        fibonacci_sequence.append(a)\n",
    "        a, b = b, a + b\n",
    "\n",
    "    return fibonacci_sequence\n",
    "\n",
    "# Input: Get the limit from the user\n",
    "limit = int(input(\"Enter the limit for the Fibonacci sequence: \"))\n",
    "\n",
    "# Call the function to generate the Fibonacci sequence\n",
    "fibonacci_sequence = generate_fibonacci(limit)\n",
    "\n",
    "# Print the Fibonacci sequence\n",
    "print(\"Fibonacci sequence up to\", limit, \":\")\n",
    "for number in fibonacci_sequence:\n",
    "    print(number)\n"
   ]
  },
  {
   "cell_type": "markdown",
   "id": "a8fdeaa7-e0a1-4c54-b0c9-bf8c94dfc645",
   "metadata": {},
   "source": [
    "q.11 Write a Python program to count the number of vowels in a given string using a for loop."
   ]
  },
  {
   "cell_type": "code",
   "execution_count": 9,
   "id": "cd7f4404-a401-4461-91ab-f5514ba122d3",
   "metadata": {},
   "outputs": [
    {
     "name": "stdin",
     "output_type": "stream",
     "text": [
      "Enter a string:  siddharth\n"
     ]
    },
    {
     "name": "stdout",
     "output_type": "stream",
     "text": [
      "Number of vowels in the given string: 2\n"
     ]
    }
   ],
   "source": [
    "# Input: Get a string from the user\n",
    "input_string = input(\"Enter a string: \")\n",
    "\n",
    "# Initialize a variable to count vowels\n",
    "vowel_count = 0\n",
    "\n",
    "# Define a set of vowels (both uppercase and lowercase)\n",
    "vowels = \"AEIOUaeiou\"\n",
    "\n",
    "# Iterate through the characters in the input string\n",
    "for char in input_string:\n",
    "    # Check if the character is a vowel\n",
    "    if char in vowels:\n",
    "        vowel_count += 1\n",
    "\n",
    "# Print the result\n",
    "print(\"Number of vowels in the given string:\", vowel_count)\n"
   ]
  },
  {
   "cell_type": "markdown",
   "id": "997cd78b-467e-4f17-8564-a98019324a52",
   "metadata": {},
   "source": [
    "q.12 Create a Python program that generates a multiplication table for a given number using a for loop"
   ]
  },
  {
   "cell_type": "code",
   "execution_count": 10,
   "id": "f599589f-9691-4045-ac36-2d0ae15bf34d",
   "metadata": {},
   "outputs": [
    {
     "name": "stdin",
     "output_type": "stream",
     "text": [
      "Enter a number:  8\n"
     ]
    },
    {
     "name": "stdout",
     "output_type": "stream",
     "text": [
      "Multiplication table for 8:\n",
      "8 x 1 = 8\n",
      "8 x 2 = 16\n",
      "8 x 3 = 24\n",
      "8 x 4 = 32\n",
      "8 x 5 = 40\n",
      "8 x 6 = 48\n",
      "8 x 7 = 56\n",
      "8 x 8 = 64\n",
      "8 x 9 = 72\n",
      "8 x 10 = 80\n"
     ]
    }
   ],
   "source": [
    "# Input: Get the number for which you want to generate the multiplication table\n",
    "number = int(input(\"Enter a number: \"))\n",
    "\n",
    "# Define the range for the multiplication table (e.g., from 1 to 10)\n",
    "table_range = range(1, 11)\n",
    "\n",
    "# Generate and print the multiplication table\n",
    "print(f\"Multiplication table for {number}:\")\n",
    "for i in table_range:\n",
    "    result = number * i\n",
    "    print(f\"{number} x {i} = {result}\")\n"
   ]
  },
  {
   "cell_type": "markdown",
   "id": "7fd2bf2d-986d-45a7-b58c-f62676ccb09b",
   "metadata": {},
   "source": [
    "q.13 Write a Python program to reverse a list using a for loop."
   ]
  },
  {
   "cell_type": "code",
   "execution_count": 11,
   "id": "d36730fe-c77c-491f-b67c-7af111e02a44",
   "metadata": {},
   "outputs": [
    {
     "name": "stdout",
     "output_type": "stream",
     "text": [
      "Original list: [1, 2, 3, 4, 5]\n",
      "Reversed list: [5, 4, 3, 2, 1]\n"
     ]
    }
   ],
   "source": [
    "# Define a list of elements\n",
    "original_list = [1, 2, 3, 4, 5]\n",
    "\n",
    "# Initialize an empty list to store the reversed elements\n",
    "reversed_list = []\n",
    "\n",
    "# Iterate through the original list in reverse order\n",
    "for i in range(len(original_list) - 1, -1, -1):\n",
    "    reversed_list.append(original_list[i])\n",
    "\n",
    "# Print the reversed list\n",
    "print(\"Original list:\", original_list)\n",
    "print(\"Reversed list:\", reversed_list)\n"
   ]
  },
  {
   "cell_type": "markdown",
   "id": "82eb12d5-9c45-4057-b793-6939b6d8008f",
   "metadata": {},
   "source": [
    "q.14 Write a Python program to find the common elements between two lists using a for loop."
   ]
  },
  {
   "cell_type": "code",
   "execution_count": 12,
   "id": "1ab102b9-8da5-40d1-a1bb-2de2c43e49ce",
   "metadata": {},
   "outputs": [
    {
     "name": "stdout",
     "output_type": "stream",
     "text": [
      "Common elements between list1 and list2: [3, 4, 5]\n"
     ]
    }
   ],
   "source": [
    "# Define two lists\n",
    "list1 = [1, 2, 3, 4, 5]\n",
    "list2 = [3, 4, 5, 6, 7]\n",
    "\n",
    "# Initialize an empty list to store the common elements\n",
    "common_elements = []\n",
    "\n",
    "# Iterate through the first list\n",
    "for item in list1:\n",
    "    # Check if the element is in the second list\n",
    "    if item in list2:\n",
    "        common_elements.append(item)\n",
    "\n",
    "# Print the common elements\n",
    "print(\"Common elements between list1 and list2:\", common_elements)\n"
   ]
  },
  {
   "cell_type": "markdown",
   "id": "b8757753-da68-4caf-a60e-b685bd1ead1b",
   "metadata": {},
   "source": [
    "q.15 Explain how to use a for loop to iterate through the keys and values of a dictionary in Python"
   ]
  },
  {
   "cell_type": "code",
   "execution_count": 13,
   "id": "06abbb7c-5205-4f09-88aa-6ec479353e19",
   "metadata": {},
   "outputs": [
    {
     "name": "stdout",
     "output_type": "stream",
     "text": [
      "Key: a, Value: 1\n",
      "Key: b, Value: 2\n",
      "Key: c, Value: 3\n"
     ]
    }
   ],
   "source": [
    "# Define a dictionary\n",
    "my_dict = {'a': 1, 'b': 2, 'c': 3}\n",
    "\n",
    "# Iterate through the keys and values using a for loop\n",
    "for key, value in my_dict.items():\n",
    "    print(f'Key: {key}, Value: {value}')\n"
   ]
  },
  {
   "cell_type": "markdown",
   "id": "f52d553f-986e-4c86-b189-77b74ca5b6ed",
   "metadata": {},
   "source": [
    "q.16 Write a Python program to find the GCD (Greatest Common Divisor) of two numbers using a for loop."
   ]
  },
  {
   "cell_type": "code",
   "execution_count": 14,
   "id": "061d2d85-1ebb-4895-b0cf-477e9839e2a3",
   "metadata": {},
   "outputs": [
    {
     "name": "stdin",
     "output_type": "stream",
     "text": [
      "Enter the first number:  10\n",
      "Enter the second number:  20\n"
     ]
    },
    {
     "name": "stdout",
     "output_type": "stream",
     "text": [
      "The GCD of 10 and 20 is 10\n"
     ]
    }
   ],
   "source": [
    "# Function to find the GCD of two numbers using the Euclidean algorithm\n",
    "def gcd(a, b):\n",
    "    while b:\n",
    "        a, b = b, a % b\n",
    "    return a\n",
    "\n",
    "# Input: Get two numbers from the user\n",
    "num1 = int(input(\"Enter the first number: \"))\n",
    "num2 = int(input(\"Enter the second number: \"))\n",
    "\n",
    "# Calculate the GCD using the gcd function\n",
    "result = gcd(num1, num2)\n",
    "\n",
    "# Print the result\n",
    "print(f\"The GCD of {num1} and {num2} is {result}\")\n"
   ]
  },
  {
   "cell_type": "markdown",
   "id": "8e853da1-94ab-40b6-885a-63207498d6bf",
   "metadata": {},
   "source": [
    "q.17 Create a Python program that checks if a string is a palindrome using a for loop.\n"
   ]
  },
  {
   "cell_type": "code",
   "execution_count": 15,
   "id": "77263547-12e0-47e6-bcbd-e0f0af9a3169",
   "metadata": {},
   "outputs": [
    {
     "name": "stdin",
     "output_type": "stream",
     "text": [
      "Enter a string:  soni\n"
     ]
    },
    {
     "name": "stdout",
     "output_type": "stream",
     "text": [
      "'soni' is not a palindrome.\n"
     ]
    }
   ],
   "source": [
    "# Function to check if a string is a palindrome\n",
    "def is_palindrome(input_string):\n",
    "    # Remove spaces and convert to lowercase for case-insensitive comparison\n",
    "    cleaned_string = input_string.replace(\" \", \"\").lower()\n",
    "    \n",
    "    # Initialize indices for the start and end of the string\n",
    "    start = 0\n",
    "    end = len(cleaned_string) - 1\n",
    "\n",
    "    # Use a for loop to compare characters from the start and end\n",
    "    for _ in range(len(cleaned_string) // 2):\n",
    "        if cleaned_string[start] != cleaned_string[end]:\n",
    "            return False\n",
    "        start += 1\n",
    "        end -= 1\n",
    "    return True\n",
    "\n",
    "# Input: Get a string from the user\n",
    "input_string = input(\"Enter a string: \")\n",
    "\n",
    "# Check if the input string is a palindrome\n",
    "if is_palindrome(input_string):\n",
    "    print(f\"'{input_string}' is a palindrome.\")\n",
    "else:\n",
    "    print(f\"'{input_string}' is not a palindrome.\")\n"
   ]
  },
  {
   "cell_type": "markdown",
   "id": "4cf0d650-2e4a-413d-9070-1510e92903a2",
   "metadata": {},
   "source": [
    "q.18 Write a Python program to remove duplicates from a list using a for loop.\n"
   ]
  },
  {
   "cell_type": "code",
   "execution_count": 16,
   "id": "df50dc22-4577-4699-80f3-ded0d1344e43",
   "metadata": {},
   "outputs": [
    {
     "name": "stdout",
     "output_type": "stream",
     "text": [
      "Original list with duplicates: [1, 2, 2, 3, 4, 4, 5, 5]\n",
      "List with duplicates removed: [1, 2, 3, 4, 5]\n"
     ]
    }
   ],
   "source": [
    "# Define a list with duplicates\n",
    "original_list = [1, 2, 2, 3, 4, 4, 5, 5]\n",
    "\n",
    "# Initialize an empty list to store unique elements\n",
    "unique_list = []\n",
    "\n",
    "# Iterate through the original list\n",
    "for item in original_list:\n",
    "    # Check if the item is not already in the unique_list\n",
    "    if item not in unique_list:\n",
    "        unique_list.append(item)\n",
    "\n",
    "# Print the list with duplicates removed\n",
    "print(\"Original list with duplicates:\", original_list)\n",
    "print(\"List with duplicates removed:\", unique_list)\n"
   ]
  },
  {
   "cell_type": "markdown",
   "id": "e9c58bba-965d-46fa-867a-a0e468e31433",
   "metadata": {},
   "source": [
    "q.19 Create a Python program that counts the number of words in a sentence using a for loop."
   ]
  },
  {
   "cell_type": "code",
   "execution_count": 17,
   "id": "8d852eee-70a1-4155-ad4c-80e08e4d952e",
   "metadata": {},
   "outputs": [
    {
     "name": "stdin",
     "output_type": "stream",
     "text": [
      "Enter a sentence:  SIDDHARTH SONI\n"
     ]
    },
    {
     "name": "stdout",
     "output_type": "stream",
     "text": [
      "Number of words in the sentence: 2\n"
     ]
    }
   ],
   "source": [
    "# Input: Get a sentence from the user\n",
    "sentence = input(\"Enter a sentence: \")\n",
    "\n",
    "# Initialize a variable to count words\n",
    "word_count = 0\n",
    "\n",
    "# Split the sentence into words using whitespace as the delimiter\n",
    "words = sentence.split()\n",
    "\n",
    "# Iterate through the words to count them\n",
    "for word in words:\n",
    "    word_count += 1\n",
    "\n",
    "# Print the result\n",
    "print(f\"Number of words in the sentence: {word_count}\")\n"
   ]
  },
  {
   "cell_type": "markdown",
   "id": "c70f630b-3b6c-4ec2-88bc-a6bc71eb15e8",
   "metadata": {},
   "source": [
    "q.20 Write a Python program to find the sum of all odd numbers from 1 to 50 using a for loop.\n"
   ]
  },
  {
   "cell_type": "code",
   "execution_count": 18,
   "id": "c3369527-0e48-427b-954c-127fbedd8122",
   "metadata": {},
   "outputs": [
    {
     "name": "stdout",
     "output_type": "stream",
     "text": [
      "Sum of odd numbers from 1 to 50: 625\n"
     ]
    }
   ],
   "source": [
    "# Initialize a variable to store the sum of odd numbers\n",
    "sum_of_odds = 0\n",
    "\n",
    "# Iterate through numbers from 1 to 50 using a for loop\n",
    "for num in range(1, 51):\n",
    "    # Check if the number is odd\n",
    "    if num % 2 != 0:\n",
    "        sum_of_odds += num\n",
    "\n",
    "# Print the sum of odd numbers\n",
    "print(\"Sum of odd numbers from 1 to 50:\", sum_of_odds)\n"
   ]
  },
  {
   "cell_type": "markdown",
   "id": "88357fb7-2937-4f8a-b8ae-bf705467ebe2",
   "metadata": {},
   "source": [
    "q.21 Write a Python program that checks if a given year is a leap year using a for loop."
   ]
  },
  {
   "cell_type": "code",
   "execution_count": 19,
   "id": "a37f1a20-bd30-475a-bf62-6efe47c8fe8c",
   "metadata": {},
   "outputs": [
    {
     "name": "stdin",
     "output_type": "stream",
     "text": [
      "Enter a year:  2023\n"
     ]
    },
    {
     "name": "stdout",
     "output_type": "stream",
     "text": [
      "2023 is not a leap year.\n"
     ]
    }
   ],
   "source": [
    "# Function to check if a year is a leap year\n",
    "def is_leap_year(year):\n",
    "    if (year % 4 == 0 and year % 100 != 0) or (year % 400 == 0):\n",
    "        return True\n",
    "    else:\n",
    "        return False\n",
    "\n",
    "# Input: Get the year from the user\n",
    "year = int(input(\"Enter a year: \"))\n",
    "\n",
    "# Check if the input year is a leap year using the is_leap_year function\n",
    "if is_leap_year(year):\n",
    "    print(f\"{year} is a leap year.\")\n",
    "else:\n",
    "    print(f\"{year} is not a leap year.\")\n"
   ]
  },
  {
   "cell_type": "markdown",
   "id": "a256ecc0-11d7-4a35-a66c-f09beda3e318",
   "metadata": {},
   "source": [
    "q.22 Create a Python program that calculates the square root of a number using a for loop."
   ]
  },
  {
   "cell_type": "code",
   "execution_count": 2,
   "id": "eb996606-8d70-4870-adc8-b4c6013dfce9",
   "metadata": {},
   "outputs": [
    {
     "name": "stdin",
     "output_type": "stream",
     "text": [
      "Enter a number to calculate its square root:  25\n"
     ]
    },
    {
     "name": "stdout",
     "output_type": "stream",
     "text": [
      "The square root of 25.0 is approximately 5.000000\n"
     ]
    }
   ],
   "source": [
    "def square_root(number, epsilon=1e-6, max_iterations=100):\n",
    "    if number < 0:\n",
    "        raise ValueError(\"Cannot calculate the square root of a negative number\")\n",
    "\n",
    "    guess = number / 2.0  # Initial guess\n",
    "    for _ in range(max_iterations):\n",
    "        guess = (guess + number / guess) / 2.0\n",
    "        error = abs(guess**2 - number)\n",
    "        \n",
    "        if error < epsilon:\n",
    "            return guess\n",
    "\n",
    "    return guess\n",
    "\n",
    "# Input from the user\n",
    "try:\n",
    "    num = float(input(\"Enter a number to calculate its square root: \"))\n",
    "    result = square_root(num)\n",
    "    print(f\"The square root of {num} is approximately {result:.6f}\")\n",
    "except ValueError as e:\n",
    "    print(e)\n"
   ]
  },
  {
   "cell_type": "markdown",
   "id": "c0c96941-d71f-447b-b028-685bf98bb925",
   "metadata": {},
   "source": [
    "q.23 Write a Python program to find the LCM (Least Common Multiple) of two numbers using a for loop."
   ]
  },
  {
   "cell_type": "code",
   "execution_count": 3,
   "id": "dcab5649-971d-4b4d-9212-8cd7e90137e5",
   "metadata": {},
   "outputs": [
    {
     "name": "stdin",
     "output_type": "stream",
     "text": [
      "Enter the first number:  25\n",
      "Enter the second number:  100\n"
     ]
    },
    {
     "name": "stdout",
     "output_type": "stream",
     "text": [
      "The LCM of 25 and 100 is 100\n"
     ]
    }
   ],
   "source": [
    "# Function to calculate the GCD of two numbers\n",
    "def gcd(a, b):\n",
    "    while b:\n",
    "        a, b = b, a % b\n",
    "    return a\n",
    "\n",
    "# Function to calculate the LCM of two numbers\n",
    "def lcm(a, b):\n",
    "    return (a * b) // gcd(a, b)\n",
    "\n",
    "# Input from the user\n",
    "try:\n",
    "    num1 = int(input(\"Enter the first number: \"))\n",
    "    num2 = int(input(\"Enter the second number: \"))\n",
    "    \n",
    "    if num1 < 1 or num2 < 1:\n",
    "        raise ValueError(\"Please enter positive integers\")\n",
    "    \n",
    "    result = lcm(num1, num2)\n",
    "    print(f\"The LCM of {num1} and {num2} is {result}\")\n",
    "except ValueError as e:\n",
    "    print(e)\n"
   ]
  },
  {
   "cell_type": "markdown",
   "id": "3f686dff-ceef-4b84-91be-344d9f4c19fc",
   "metadata": {},
   "source": [
    "If else :\n",
    "\n",
    "\n",
    "q.1 Write a Python program to check if a number is positive, negative, or zero using an if-else statement.\n"
   ]
  },
  {
   "cell_type": "code",
   "execution_count": 4,
   "id": "075a0290-d06d-45ca-8943-9ffc5564d4df",
   "metadata": {},
   "outputs": [
    {
     "name": "stdin",
     "output_type": "stream",
     "text": [
      "Enter a number:  29\n"
     ]
    },
    {
     "name": "stdout",
     "output_type": "stream",
     "text": [
      "The number is positive.\n"
     ]
    }
   ],
   "source": [
    "# Input from the user\n",
    "try:\n",
    "    num = float(input(\"Enter a number: \"))\n",
    "    \n",
    "    if num > 0:\n",
    "        print(\"The number is positive.\")\n",
    "    elif num < 0:\n",
    "        print(\"The number is negative.\")\n",
    "    else:\n",
    "        print(\"The number is zero.\")\n",
    "except ValueError:\n",
    "    print(\"Invalid input. Please enter a valid number.\")\n"
   ]
  },
  {
   "cell_type": "markdown",
   "id": "880f45ec-940e-4147-935f-128d02cbfe0c",
   "metadata": {},
   "source": [
    "q.2 Create a Python program that checks if a given number is even or odd using an if-else statement."
   ]
  },
  {
   "cell_type": "code",
   "execution_count": 5,
   "id": "575f92cc-a98a-4079-a9a1-b16575d7c175",
   "metadata": {},
   "outputs": [
    {
     "name": "stdin",
     "output_type": "stream",
     "text": [
      "Enter a number:  29\n"
     ]
    },
    {
     "name": "stdout",
     "output_type": "stream",
     "text": [
      "29 is odd.\n"
     ]
    }
   ],
   "source": [
    "# Input from the user\n",
    "try:\n",
    "    num = int(input(\"Enter a number: \"))\n",
    "    \n",
    "    if num % 2 == 0:\n",
    "        print(f\"{num} is even.\")\n",
    "    else:\n",
    "        print(f\"{num} is odd.\")\n",
    "except ValueError:\n",
    "    print(\"Invalid input. Please enter an integer.\")\n"
   ]
  },
  {
   "cell_type": "markdown",
   "id": "0e5b442e-c2e9-456f-9eb9-aaccb6680fea",
   "metadata": {},
   "source": [
    "q.3 How can you use nested if-else statements in Python, and provide an example?\n"
   ]
  },
  {
   "cell_type": "code",
   "execution_count": 6,
   "id": "08d85e09-9c96-4eef-b815-da3efe0fb9dd",
   "metadata": {},
   "outputs": [
    {
     "name": "stdin",
     "output_type": "stream",
     "text": [
      "Enter an integer:  93\n"
     ]
    },
    {
     "name": "stdout",
     "output_type": "stream",
     "text": [
      "The number is positive.\n",
      "It is an odd number.\n"
     ]
    }
   ],
   "source": [
    "# Input from the user\n",
    "try:\n",
    "    num = int(input(\"Enter an integer: \"))\n",
    "\n",
    "    if num > 0:\n",
    "        print(\"The number is positive.\")\n",
    "        \n",
    "        if num % 2 == 0:\n",
    "            print(\"It is an even number.\")\n",
    "        else:\n",
    "            print(\"It is an odd number.\")\n",
    "    elif num < 0:\n",
    "        print(\"The number is negative.\")\n",
    "    else:\n",
    "        print(\"The number is zero.\")\n",
    "except ValueError:\n",
    "    print(\"Invalid input. Please enter an integer.\")\n"
   ]
  },
  {
   "cell_type": "markdown",
   "id": "81df7240-9399-4704-9bb9-7e6fba8c3528",
   "metadata": {},
   "source": [
    "q.4 Write a Python program to determine the largest of three numbers using if-else."
   ]
  },
  {
   "cell_type": "code",
   "execution_count": 8,
   "id": "f4e9da17-22db-41ae-beb5-65557ab0c8c6",
   "metadata": {},
   "outputs": [
    {
     "name": "stdin",
     "output_type": "stream",
     "text": [
      "Enter the first number:  20\n",
      "Enter the second number:  30\n",
      "Enter the third number:  35\n"
     ]
    },
    {
     "name": "stdout",
     "output_type": "stream",
     "text": [
      "The largest number among 20.0, 30.0, and 35.0 is 35.0\n"
     ]
    }
   ],
   "source": [
    "# Input from the user\n",
    "try:\n",
    "    num1 = float(input(\"Enter the first number: \"))\n",
    "    num2 = float(input(\"Enter the second number: \"))\n",
    "    num3 = float(input(\"Enter the third number: \"))\n",
    "    \n",
    "    # Check for the largest number using nested if-else statements\n",
    "    if num1 >= num2 and num1 >= num3:\n",
    "        largest = num1\n",
    "    elif num2 >= num1 and num2 >= num3:\n",
    "        largest = num2\n",
    "    else:\n",
    "        largest = num3\n",
    "    \n",
    "    print(f\"The largest number among {num1}, {num2}, and {num3} is {largest}\")\n",
    "except ValueError:\n",
    "    print(\"Invalid input. Please enter valid numbers.\")\n"
   ]
  },
  {
   "cell_type": "markdown",
   "id": "336ca23e-bed4-4ba8-b7dd-7fd2e8578ef4",
   "metadata": {},
   "source": [
    "q.5 Write a Python program that calculates the absolute value of a number using if-else."
   ]
  },
  {
   "cell_type": "code",
   "execution_count": 9,
   "id": "483147c5-e318-4756-b4f5-b89f652fe7a1",
   "metadata": {},
   "outputs": [
    {
     "name": "stdin",
     "output_type": "stream",
     "text": [
      "Enter a number:  29\n"
     ]
    },
    {
     "name": "stdout",
     "output_type": "stream",
     "text": [
      "The absolute value of 29.0 is 29.0\n"
     ]
    }
   ],
   "source": [
    "# Input from the user\n",
    "try:\n",
    "    num = float(input(\"Enter a number: \"))\n",
    "    \n",
    "    # Calculate the absolute value using if-else\n",
    "    if num >= 0:\n",
    "        absolute_value = num\n",
    "    else:\n",
    "        absolute_value = -num\n",
    "    \n",
    "    print(f\"The absolute value of {num} is {absolute_value}\")\n",
    "except ValueError:\n",
    "    print(\"Invalid input. Please enter a valid number.\")\n"
   ]
  },
  {
   "cell_type": "markdown",
   "id": "142bf146-0c98-45b5-9937-666d289cb10d",
   "metadata": {},
   "source": [
    "q.6 Create a Python program that checks if a given character is a vowel or consonant using if-else.\n"
   ]
  },
  {
   "cell_type": "code",
   "execution_count": 10,
   "id": "e1e72411-4ec8-42d7-a920-7537618fcbe3",
   "metadata": {},
   "outputs": [
    {
     "name": "stdin",
     "output_type": "stream",
     "text": [
      "Enter a character:  s\n"
     ]
    },
    {
     "name": "stdout",
     "output_type": "stream",
     "text": [
      "s is a consonant.\n"
     ]
    }
   ],
   "source": [
    "# Input from the user\n",
    "try:\n",
    "    char = input(\"Enter a character: \")\n",
    "\n",
    "    # Ensure that the input is a single character\n",
    "    if len(char) != 1:\n",
    "        raise ValueError(\"Please enter a single character.\")\n",
    "\n",
    "    # Convert the input character to lowercase to handle both uppercase and lowercase\n",
    "    char = char.lower()\n",
    "\n",
    "    # Check if the character is a vowel or consonant using if-else\n",
    "    if char in \"aeiou\":\n",
    "        print(f\"{char} is a vowel.\")\n",
    "    else:\n",
    "        print(f\"{char} is a consonant.\")\n",
    "except ValueError as e:\n",
    "    print(e)\n"
   ]
  },
  {
   "cell_type": "markdown",
   "id": "0018427b-1be1-4481-847d-eb5abb1b8d82",
   "metadata": {},
   "source": [
    "q.7 Write a Python program to determine if a user is eligible to vote based on their age using if-else."
   ]
  },
  {
   "cell_type": "markdown",
   "id": "ff94d270-69c8-4a45-8bac-b8d318e72af3",
   "metadata": {},
   "source": [
    "# Input from the user\n",
    "try:\n",
    "    age = int(input(\"Enter your age: \"))\n",
    "\n",
    "    # Check if the user is eligible to vote using if-else\n",
    "    if age >= 18:\n",
    "        print(\"You are eligible to vote.\")\n",
    "    else:\n",
    "        print(\"You are not eligible to vote.\")\n",
    "except ValueError:\n",
    "    print(\"Invalid input. Please enter a valid age as an integer.\")\n"
   ]
  },
  {
   "cell_type": "markdown",
   "id": "ff5977fb-61af-4dd3-bde2-1672ebcd5d35",
   "metadata": {},
   "source": [
    "q.8 Create a Python program that calculates the discount amount based on the purchase amount using if-else"
   ]
  },
  {
   "cell_type": "code",
   "execution_count": 12,
   "id": "502865ac-c496-4998-8b14-2bc2ce160c67",
   "metadata": {},
   "outputs": [
    {
     "name": "stdin",
     "output_type": "stream",
     "text": [
      "Enter the purchase amount:  2999\n"
     ]
    },
    {
     "name": "stdout",
     "output_type": "stream",
     "text": [
      "Purchase Amount: $2999.00\n",
      "Discount Percentage: 10%\n",
      "Discount Amount: $299.90\n",
      "Discounted Amount: $2699.10\n"
     ]
    }
   ],
   "source": [
    "# Input from the user\n",
    "try:\n",
    "    purchase_amount = float(input(\"Enter the purchase amount: \"))\n",
    "\n",
    "    # Calculate the discount based on purchase amount using if-else\n",
    "    if purchase_amount >= 1000:\n",
    "        discount_percentage = 10  # 10% discount for purchases of $1000 or more\n",
    "    elif purchase_amount >= 500:\n",
    "        discount_percentage = 5   # 5% discount for purchases between $500 and $999.99\n",
    "    else:\n",
    "        discount_percentage = 0   # No discount for purchases less than $500\n",
    "\n",
    "    discount = (discount_percentage / 100) * purchase_amount\n",
    "    discounted_amount = purchase_amount - discount\n",
    "\n",
    "    print(f\"Purchase Amount: ${purchase_amount:.2f}\")\n",
    "    print(f\"Discount Percentage: {discount_percentage}%\")\n",
    "    print(f\"Discount Amount: ${discount:.2f}\")\n",
    "    print(f\"Discounted Amount: ${discounted_amount:.2f}\")\n",
    "except ValueError:\n",
    "    print(\"Invalid input. Please enter a valid purchase amount as a number.\")\n"
   ]
  },
  {
   "cell_type": "markdown",
   "id": "29892983-f29b-467e-af2f-3351517fc0f8",
   "metadata": {},
   "source": [
    "q.9 Write a Python program to check if a number is within a specified range using if-else."
   ]
  },
  {
   "cell_type": "code",
   "execution_count": 13,
   "id": "a67d1db4-fb72-4e96-9a00-60b59216bbac",
   "metadata": {},
   "outputs": [
    {
     "name": "stdin",
     "output_type": "stream",
     "text": [
      "Enter a number:  29\n",
      "Enter the lower limit of the range:  95\n",
      "Enter the upper limit of the range:  200\n"
     ]
    },
    {
     "name": "stdout",
     "output_type": "stream",
     "text": [
      "29.0 is not within the range [95.0, 200.0].\n"
     ]
    }
   ],
   "source": [
    "# Input from the user\n",
    "try:\n",
    "    number = float(input(\"Enter a number: \"))\n",
    "    lower_limit = float(input(\"Enter the lower limit of the range: \"))\n",
    "    upper_limit = float(input(\"Enter the upper limit of the range: \"))\n",
    "\n",
    "    # Check if the number is within the specified range using if-else\n",
    "    if lower_limit <= number <= upper_limit:\n",
    "        print(f\"{number} is within the range [{lower_limit}, {upper_limit}].\")\n",
    "    else:\n",
    "        print(f\"{number} is not within the range [{lower_limit}, {upper_limit}].\")\n",
    "except ValueError:\n",
    "    print(\"Invalid input. Please enter valid numbers.\")\n"
   ]
  },
  {
   "cell_type": "markdown",
   "id": "ea147fe7-0715-46a3-9def-d720fc8f6664",
   "metadata": {},
   "source": [
    "q.10 Create a Python program that determines the grade of a student based on their score using if-else"
   ]
  },
  {
   "cell_type": "code",
   "execution_count": 15,
   "id": "c6e4e6a9-f431-4b63-92b2-329adf240b1a",
   "metadata": {},
   "outputs": [
    {
     "name": "stdin",
     "output_type": "stream",
     "text": [
      "Enter the student's score:  84\n"
     ]
    },
    {
     "name": "stdout",
     "output_type": "stream",
     "text": [
      "The student's grade is B\n"
     ]
    }
   ],
   "source": [
    "# Input from the user\n",
    "try:\n",
    "    score = float(input(\"Enter the student's score: \"))\n",
    "\n",
    "    # Determine the grade based on the score using if-else\n",
    "    if 90 <= score <= 100:\n",
    "        grade = \"A\"\n",
    "    elif 80 <= score < 90:\n",
    "        grade = \"B\"\n",
    "    elif 70 <= score < 80:\n",
    "        grade = \"C\"\n",
    "    elif 60 <= score < 70:\n",
    "        grade = \"D\"\n",
    "    elif 0 <= score < 60:\n",
    "        grade = \"F\"\n",
    "    else:\n",
    "        grade = \"Invalid (score out of range)\"\n",
    "    \n",
    "    print(f\"The student's grade is {grade}\")\n",
    "except ValueError:\n",
    "    print(\"Invalid input. Please enter a valid numeric score.\")\n"
   ]
  },
  {
   "cell_type": "markdown",
   "id": "91a2936a-12a8-47e0-a9b3-deae8d82b8d8",
   "metadata": {},
   "source": [
    "q.11 Write a Python program to check if a string is empty or not using if-else."
   ]
  },
  {
   "cell_type": "code",
   "execution_count": 16,
   "id": "f7066e61-6a66-4527-ad53-82a1d90b4ac5",
   "metadata": {},
   "outputs": [
    {
     "name": "stdin",
     "output_type": "stream",
     "text": [
      "Enter a string:  soni\n"
     ]
    },
    {
     "name": "stdout",
     "output_type": "stream",
     "text": [
      "The string is not empty.\n"
     ]
    }
   ],
   "source": [
    "# Input from the user\n",
    "text = input(\"Enter a string: \")\n",
    "\n",
    "# Check if the string is empty using if-else\n",
    "if len(text) == 0:\n",
    "    print(\"The string is empty.\")\n",
    "else:\n",
    "    print(\"The string is not empty.\")\n"
   ]
  },
  {
   "cell_type": "markdown",
   "id": "8e4a2f4f-c147-41c7-86b9-adc04ac12889",
   "metadata": {},
   "source": [
    "q.12 Create a Python program that identifies the type of a triangle (e.g., equilateral, isosceles, or scalene) based on input values using if-else"
   ]
  },
  {
   "cell_type": "code",
   "execution_count": 17,
   "id": "08753ce3-a7e4-4eaa-84f6-8746766d4761",
   "metadata": {},
   "outputs": [
    {
     "name": "stdin",
     "output_type": "stream",
     "text": [
      "Enter the length of the first side:  5\n",
      "Enter the length of the second side:  12\n",
      "Enter the length of the third side:  13\n"
     ]
    },
    {
     "name": "stdout",
     "output_type": "stream",
     "text": [
      "The triangle is a scalene triangle.\n"
     ]
    }
   ],
   "source": [
    "# Input from the user\n",
    "try:\n",
    "    side1 = float(input(\"Enter the length of the first side: \"))\n",
    "    side2 = float(input(\"Enter the length of the second side: \"))\n",
    "    side3 = float(input(\"Enter the length of the third side: \"))\n",
    "\n",
    "    # Check if the input sides form a valid triangle\n",
    "    if side1 + side2 > side3 and side1 + side3 > side2 and side2 + side3 > side1:\n",
    "        if side1 == side2 == side3:\n",
    "            triangle_type = \"equilateral\"\n",
    "        elif side1 == side2 or side1 == side3 or side2 == side3:\n",
    "            triangle_type = \"isosceles\"\n",
    "        else:\n",
    "            triangle_type = \"scalene\"\n",
    "        print(f\"The triangle is a {triangle_type} triangle.\")\n",
    "    else:\n",
    "        print(\"The input sides do not form a valid triangle.\")\n",
    "except ValueError:\n",
    "    print(\"Invalid input. Please enter valid numeric side lengths.\")\n"
   ]
  },
  {
   "cell_type": "markdown",
   "id": "30be289e-33e9-4bd8-b385-55a079c730a7",
   "metadata": {},
   "source": [
    "q.13 Write a Python program to determine the day of the week based on a user-provided number using if-else"
   ]
  },
  {
   "cell_type": "code",
   "execution_count": 18,
   "id": "c8967cce-72d4-496d-b8ed-b916852c8f2b",
   "metadata": {},
   "outputs": [
    {
     "name": "stdin",
     "output_type": "stream",
     "text": [
      "Enter a number (1-7) to determine the day of the week:  5\n"
     ]
    },
    {
     "name": "stdout",
     "output_type": "stream",
     "text": [
      "The day corresponding to 5 is Friday.\n"
     ]
    }
   ],
   "source": [
    "# Input from the user\n",
    "try:\n",
    "    day_number = int(input(\"Enter a number (1-7) to determine the day of the week: \"))\n",
    "\n",
    "    # Determine the day of the week based on the user-provided number using if-else\n",
    "    if day_number == 1:\n",
    "        day_name = \"Monday\"\n",
    "    elif day_number == 2:\n",
    "        day_name = \"Tuesday\"\n",
    "    elif day_number == 3:\n",
    "        day_name = \"Wednesday\"\n",
    "    elif day_number == 4:\n",
    "        day_name = \"Thursday\"\n",
    "    elif day_number == 5:\n",
    "        day_name = \"Friday\"\n",
    "    elif day_number == 6:\n",
    "        day_name = \"Saturday\"\n",
    "    elif day_number == 7:\n",
    "        day_name = \"Sunday\"\n",
    "    else:\n",
    "        day_name = \"Invalid (out of range)\"\n",
    "\n",
    "    print(f\"The day corresponding to {day_number} is {day_name}.\")\n",
    "except ValueError:\n",
    "    print(\"Invalid input. Please enter a valid number (1-7).\")\n"
   ]
  },
  {
   "cell_type": "markdown",
   "id": "f3d08344-c187-4145-bb1c-1e8b14d4e6ee",
   "metadata": {},
   "source": [
    "q.14 Create a Python program that checks if a given year is a leap year using both if-else and a function."
   ]
  },
  {
   "cell_type": "code",
   "execution_count": 19,
   "id": "01099c58-5df1-45c7-ba16-ff8094a48eaf",
   "metadata": {},
   "outputs": [
    {
     "name": "stdin",
     "output_type": "stream",
     "text": [
      "Enter a year:  2023\n"
     ]
    },
    {
     "name": "stdout",
     "output_type": "stream",
     "text": [
      "2023 is not a leap year.\n"
     ]
    }
   ],
   "source": [
    "# Function to check if a year is a leap year\n",
    "def is_leap_year(year):\n",
    "    if (year % 4 == 0 and year % 100 != 0) or (year % 400 == 0):\n",
    "        return True\n",
    "    else:\n",
    "        return False\n",
    "\n",
    "# Input from the user\n",
    "try:\n",
    "    year = int(input(\"Enter a year: \"))\n",
    "\n",
    "    # Check if the year is a leap year using the function and if-else\n",
    "    if is_leap_year(year):\n",
    "        print(f\"{year} is a leap year.\")\n",
    "    else:\n",
    "        print(f\"{year} is not a leap year.\")\n",
    "except ValueError:\n",
    "    print(\"Invalid input. Please enter a valid year as an integer.\")\n"
   ]
  },
  {
   "cell_type": "markdown",
   "id": "fea40a0b-a2e2-4c3a-b2a8-496f585da2f3",
   "metadata": {},
   "source": [
    "q.15 How do you use the \"assert\" statement in Python to add debugging checks within if-else blocks?"
   ]
  },
  {
   "cell_type": "code",
   "execution_count": 20,
   "id": "88e02dcf-8fe6-4eae-a2b2-64888cb1af47",
   "metadata": {},
   "outputs": [
    {
     "name": "stdout",
     "output_type": "stream",
     "text": [
      "x is positive.\n"
     ]
    }
   ],
   "source": [
    "x = 5\n",
    "\n",
    "# Check if x is greater than 0\n",
    "if x > 0:\n",
    "    print(\"x is positive.\")\n",
    "else:\n",
    "    assert x == 0, \"x should be zero\"\n",
    "    print(\"x is zero.\")\n"
   ]
  },
  {
   "cell_type": "markdown",
   "id": "189a6654-2d5c-4363-be11-b824c8a9d9bd",
   "metadata": {},
   "source": [
    "q.16 Create a Python program that determines the eligibility of a person for a senior citizen discount based on age using if-else"
   ]
  },
  {
   "cell_type": "code",
   "execution_count": 21,
   "id": "a1e24275-09ce-42f2-b221-d892a77b552d",
   "metadata": {},
   "outputs": [
    {
     "name": "stdin",
     "output_type": "stream",
     "text": [
      "Enter your age:  60\n"
     ]
    },
    {
     "name": "stdout",
     "output_type": "stream",
     "text": [
      "Congratulations! You are eligible for the senior citizen discount.\n"
     ]
    }
   ],
   "source": [
    "# Input from the user\n",
    "try:\n",
    "    age = int(input(\"Enter your age: \"))\n",
    "\n",
    "    # Check eligibility for senior citizen discount using if-else\n",
    "    if age >= 60:\n",
    "        print(\"Congratulations! You are eligible for the senior citizen discount.\")\n",
    "    else:\n",
    "        print(\"Sorry, you are not eligible for the senior citizen discount.\")\n",
    "except ValueError:\n",
    "    print(\"Invalid input. Please enter a valid age as an integer.\")\n"
   ]
  },
  {
   "cell_type": "markdown",
   "id": "199f4465-09d3-4683-8fae-fcfb639aa859",
   "metadata": {},
   "source": [
    "q.17 Write a Python program to categorize a given character as uppercase, lowercase, or neither using if-else"
   ]
  },
  {
   "cell_type": "code",
   "execution_count": 22,
   "id": "d5d6392b-a84a-41df-b489-50cf40ec5682",
   "metadata": {},
   "outputs": [
    {
     "name": "stdin",
     "output_type": "stream",
     "text": [
      "Enter a character:  s\n"
     ]
    },
    {
     "name": "stdout",
     "output_type": "stream",
     "text": [
      "The character 's' is in the category of lowercase.\n"
     ]
    }
   ],
   "source": [
    "# Input from the user\n",
    "try:\n",
    "    char = input(\"Enter a character: \")\n",
    "\n",
    "    # Check the character category using if-else\n",
    "    if char.isalpha():\n",
    "        if char.islower():\n",
    "            category = \"lowercase\"\n",
    "        elif char.isupper():\n",
    "            category = \"uppercase\"\n",
    "    else:\n",
    "        category = \"neither lowercase nor uppercase\"\n",
    "\n",
    "    if category:\n",
    "        print(f\"The character '{char}' is in the category of {category}.\")\n",
    "    else:\n",
    "        print(f\"The character '{char}' is not an alphabetic character.\")\n",
    "except ValueError:\n",
    "    print(\"Invalid input. Please enter a single character.\")\n"
   ]
  },
  {
   "cell_type": "markdown",
   "id": "1ceb18b6-7cf2-4197-9144-a1f9235cfea8",
   "metadata": {},
   "source": [
    "q.18 Write a Python program to determine the roots of a quadratic equation using if-else."
   ]
  },
  {
   "cell_type": "code",
   "execution_count": 23,
   "id": "19d2fc53-6d8a-48d2-837f-ef1cbe2bb37e",
   "metadata": {},
   "outputs": [
    {
     "name": "stdin",
     "output_type": "stream",
     "text": [
      "Enter the coefficient a:  5\n",
      "Enter the coefficient b:  8\n",
      "Enter the coefficient c:  10\n"
     ]
    },
    {
     "name": "stdout",
     "output_type": "stream",
     "text": [
      "The quadratic equation has complex roots: x1 = -0.8 + 1.1661903789690602i and x2 = -0.8 - 1.1661903789690602i\n"
     ]
    }
   ],
   "source": [
    "import math\n",
    "\n",
    "# Input coefficients from the user\n",
    "try:\n",
    "    a = float(input(\"Enter the coefficient a: \"))\n",
    "    b = float(input(\"Enter the coefficient b: \"))\n",
    "    c = float(input(\"Enter the coefficient c: \"))\n",
    "    \n",
    "    # Calculate the discriminant\n",
    "    discriminant = b ** 2 - 4 * a * c\n",
    "    \n",
    "    # Check if the discriminant is positive, negative, or zero\n",
    "    if discriminant > 0:\n",
    "        x1 = (-b + math.sqrt(discriminant)) / (2 * a)\n",
    "        x2 = (-b - math.sqrt(discriminant)) / (2 * a)\n",
    "        print(f\"The quadratic equation has two real roots: x1 = {x1}, x2 = {x2}\")\n",
    "    elif discriminant == 0:\n",
    "        x1 = -b / (2 * a)\n",
    "        print(f\"The quadratic equation has one real root: x1 = {x1}\")\n",
    "    else:\n",
    "        real_part = -b / (2 * a)\n",
    "        imaginary_part = math.sqrt(abs(discriminant)) / (2 * a)\n",
    "        print(f\"The quadratic equation has complex roots: x1 = {real_part} + {imaginary_part}i and x2 = {real_part} - {imaginary_part}i\")\n",
    "except ValueError:\n",
    "    print(\"Invalid input. Please enter valid coefficients as numbers.\")\n"
   ]
  },
  {
   "cell_type": "markdown",
   "id": "04430768-57e1-48a3-bf17-7dafdd564bfa",
   "metadata": {},
   "source": [
    "q.19 Create a Python program that checks if a given year is a century year or not using if-else."
   ]
  },
  {
   "cell_type": "code",
   "execution_count": 24,
   "id": "0dcb66c3-4d76-4f8d-a19f-6939e766d5bf",
   "metadata": {},
   "outputs": [
    {
     "name": "stdin",
     "output_type": "stream",
     "text": [
      "Enter a year:  2024\n"
     ]
    },
    {
     "name": "stdout",
     "output_type": "stream",
     "text": [
      "2024 is not a century year.\n"
     ]
    }
   ],
   "source": [
    "# Input from the user\n",
    "try:\n",
    "    year = int(input(\"Enter a year: \"))\n",
    "\n",
    "    # Check if the year is a century year using if-else\n",
    "    if year % 100 == 0:\n",
    "        if year % 400 == 0:\n",
    "            print(f\"{year} is a leap century year.\")\n",
    "        else:\n",
    "            print(f\"{year} is a non-leap century year.\")\n",
    "    else:\n",
    "        print(f\"{year} is not a century year.\")\n",
    "except ValueError:\n",
    "    print(\"Invalid input. Please enter a valid year as an integer.\")\n"
   ]
  },
  {
   "cell_type": "markdown",
   "id": "b24011f9-74e8-49b3-b568-bdf8b06cef62",
   "metadata": {},
   "source": [
    "q.20 Write a Python program to determine if a given number is a perfect square using if-else"
   ]
  },
  {
   "cell_type": "code",
   "execution_count": 25,
   "id": "cab12891-527d-47be-9506-f1e141a7b7f5",
   "metadata": {},
   "outputs": [
    {
     "name": "stdin",
     "output_type": "stream",
     "text": [
      "Enter a number:  29\n"
     ]
    },
    {
     "name": "stdout",
     "output_type": "stream",
     "text": [
      "29 is not a perfect square.\n"
     ]
    }
   ],
   "source": [
    "# Input from the user\n",
    "try:\n",
    "    number = int(input(\"Enter a number: \"))\n",
    "\n",
    "    # Check if the number is a perfect square using if-else\n",
    "    if number >= 0:\n",
    "        square_root = int(number ** 0.5)\n",
    "        if square_root * square_root == number:\n",
    "            print(f\"{number} is a perfect square.\")\n",
    "        else:\n",
    "            print(f\"{number} is not a perfect square.\")\n",
    "    else:\n",
    "        print(\"Negative numbers are not perfect squares.\")\n",
    "except ValueError:\n",
    "    print(\"Invalid input. Please enter a valid number as an integer.\")\n"
   ]
  },
  {
   "cell_type": "markdown",
   "id": "ef8166eb-c927-47c5-8ff6-195b79ad4c19",
   "metadata": {},
   "source": [
    "q.21 Explain the purpose of the \"continue\" and \"break\" statements within if-else loops.\n"
   ]
  },
  {
   "cell_type": "code",
   "execution_count": 26,
   "id": "0a4199d2-b731-4139-bb02-4f34690f38e9",
   "metadata": {},
   "outputs": [
    {
     "name": "stdout",
     "output_type": "stream",
     "text": [
      "1\n",
      "2\n",
      "4\n",
      "5\n"
     ]
    }
   ],
   "source": [
    "for i in range(1, 6):\n",
    "    if i == 3:\n",
    "        continue  # Skip iteration 3\n",
    "    print(i)\n"
   ]
  },
  {
   "cell_type": "code",
   "execution_count": 27,
   "id": "7d05d913-1c6e-4e93-baa1-6f1ecd0d6341",
   "metadata": {},
   "outputs": [
    {
     "name": "stdout",
     "output_type": "stream",
     "text": [
      "1\n",
      "2\n"
     ]
    }
   ],
   "source": [
    "for i in range(1, 6):\n",
    "    if i == 3:\n",
    "        break  # Exit the loop when i is 3\n",
    "    print(i)\n"
   ]
  },
  {
   "cell_type": "markdown",
   "id": "29b04fdd-ba77-417a-bebc-618f013bcf90",
   "metadata": {},
   "source": [
    "q.22 Create a Python program that calculates the BMI (Body Mass Index) of a person based on their weight and height using if-else"
   ]
  },
  {
   "cell_type": "code",
   "execution_count": 28,
   "id": "72722478-9078-4c6d-9899-df626e187287",
   "metadata": {},
   "outputs": [
    {
     "name": "stdin",
     "output_type": "stream",
     "text": [
      "Enter your weight in kilograms:  76\n",
      "Enter your height in meters:  5.6\n"
     ]
    },
    {
     "name": "stdout",
     "output_type": "stream",
     "text": [
      "Your BMI is: 2.42\n",
      "Category: Underweight\n"
     ]
    }
   ],
   "source": [
    "# Input from the user\n",
    "try:\n",
    "    weight_kg = float(input(\"Enter your weight in kilograms: \"))\n",
    "    height_m = float(input(\"Enter your height in meters: \"))\n",
    "\n",
    "    # Calculate the BMI\n",
    "    bmi = weight_kg / (height_m ** 2)\n",
    "\n",
    "    # Determine BMI category using if-else\n",
    "    if bmi < 18.5:\n",
    "        category = \"Underweight\"\n",
    "    elif 18.5 <= bmi < 24.9:\n",
    "        category = \"Normal Weight\"\n",
    "    elif 25 <= bmi < 29.9:\n",
    "        category = \"Overweight\"\n",
    "    else:\n",
    "        category = \"Obese\"\n",
    "\n",
    "    print(f\"Your BMI is: {bmi:.2f}\")\n",
    "    print(f\"Category: {category}\")\n",
    "except ValueError:\n",
    "    print(\"Invalid input. Please enter valid weight and height as numbers.\")\n"
   ]
  },
  {
   "cell_type": "markdown",
   "id": "feb1f737-d1cd-4fb1-bca3-7d676b372bd4",
   "metadata": {},
   "source": [
    "q.23 How can you use the \"filter()\" function with if-else statements to filter elements from a list?\n"
   ]
  },
  {
   "cell_type": "code",
   "execution_count": 29,
   "id": "7e27bae4-3d3b-481c-a3df-7867816bcff4",
   "metadata": {},
   "outputs": [
    {
     "name": "stdout",
     "output_type": "stream",
     "text": [
      "[2, 4, 6, 8, 10]\n"
     ]
    }
   ],
   "source": [
    "# Define a filtering function\n",
    "def is_even(x):\n",
    "    return x % 2 == 0\n",
    "\n",
    "# Create a list of numbers\n",
    "numbers = [1, 2, 3, 4, 5, 6, 7, 8, 9, 10]\n",
    "\n",
    "# Use filter() to filter even numbers from the list\n",
    "filtered_numbers = filter(is_even, numbers)\n",
    "\n",
    "# Convert the filtered result to a list (filter() returns an iterator)\n",
    "even_numbers = list(filtered_numbers)\n",
    "\n",
    "# Print the filtered result\n",
    "print(even_numbers)\n"
   ]
  },
  {
   "cell_type": "markdown",
   "id": "965efb04-ce90-48f8-a730-62b326d824c1",
   "metadata": {},
   "source": [
    "q.24 Write a Python program to determine if a given number is prime or not using if-else.\n"
   ]
  },
  {
   "cell_type": "code",
   "execution_count": 30,
   "id": "4b21f61b-b52a-4342-ba38-fe2d74aba8d7",
   "metadata": {},
   "outputs": [
    {
     "name": "stdin",
     "output_type": "stream",
     "text": [
      "Enter a number:  29\n"
     ]
    },
    {
     "name": "stdout",
     "output_type": "stream",
     "text": [
      "29 is a prime number.\n"
     ]
    }
   ],
   "source": [
    "# Input from the user\n",
    "try:\n",
    "    number = int(input(\"Enter a number: \"))\n",
    "\n",
    "    # Check if the number is prime using if-else\n",
    "    if number > 1:\n",
    "        is_prime = True  # Assume it's prime until proven otherwise\n",
    "        for i in range(2, int(number ** 0.5) + 1):\n",
    "            if number % i == 0:\n",
    "                is_prime = False\n",
    "                break\n",
    "\n",
    "        if is_prime:\n",
    "            print(f\"{number} is a prime number.\")\n",
    "        else:\n",
    "            print(f\"{number} is not a prime number.\")\n",
    "    else:\n",
    "        print(\"Prime numbers are greater than 1.\")\n",
    "except ValueError:\n",
    "    print(\"Invalid input. Please enter a valid number as an integer.\")\n"
   ]
  },
  {
   "cell_type": "markdown",
   "id": "289a2cef-ff85-478f-ba62-9791c67ee466",
   "metadata": {},
   "source": [
    "Map :-\n",
    "\n",
    "\n",
    "q.1 Explain the purpose of the `map()` function in Python and provide an example of how it can be used to apply a function to each element of an iterable.\n"
   ]
  },
  {
   "cell_type": "code",
   "execution_count": 1,
   "id": "8f128283-147d-4db1-8c88-a623d0e1bf90",
   "metadata": {},
   "outputs": [
    {
     "name": "stdout",
     "output_type": "stream",
     "text": [
      "[1, 4, 9, 16, 25]\n"
     ]
    }
   ],
   "source": [
    "# Define a function to square a number\n",
    "def square(x):\n",
    "    return x ** 2\n",
    "\n",
    "# Create a list of numbers\n",
    "numbers = [1, 2, 3, 4, 5]\n",
    "\n",
    "# Use map() to apply the square function to each element in the list\n",
    "squared_numbers = map(square, numbers)\n",
    "\n",
    "# Convert the result to a list (map() returns an iterator)\n",
    "squared_numbers_list = list(squared_numbers)\n",
    "\n",
    "# Print the squared numbers\n",
    "print(squared_numbers_list)\n"
   ]
  },
  {
   "cell_type": "markdown",
   "id": "535a64df-13fb-46db-9bbc-26bf944dbc9e",
   "metadata": {},
   "source": [
    "q.2 Write a Python program that uses the `map()` function to square each element of a list of numbers."
   ]
  },
  {
   "cell_type": "code",
   "execution_count": 2,
   "id": "22f3d31e-164a-4fa4-ac59-13a6236f5dde",
   "metadata": {},
   "outputs": [
    {
     "name": "stdout",
     "output_type": "stream",
     "text": [
      "[1, 4, 9, 16, 25]\n"
     ]
    }
   ],
   "source": [
    "# Define a function to square a number\n",
    "def square(x):\n",
    "    return x ** 2\n",
    "\n",
    "# Create a list of numbers\n",
    "numbers = [1, 2, 3, 4, 5]\n",
    "\n",
    "# Use map() to apply the square function to each element in the list\n",
    "squared_numbers = map(square, numbers)\n",
    "\n",
    "# Convert the result to a list (map() returns an iterator)\n",
    "squared_numbers_list = list(squared_numbers)\n",
    "\n",
    "# Print the squared numbers\n",
    "print(squared_numbers_list)\n"
   ]
  },
  {
   "cell_type": "markdown",
   "id": "02f51ad1-b9b6-4fd7-b0fe-97192efcede6",
   "metadata": {},
   "source": [
    "q.3 How does the `map()` function differ from a list comprehension in Python, and when would you choose one over the other?"
   ]
  },
  {
   "cell_type": "code",
   "execution_count": 3,
   "id": "b3052873-0a4d-4f9f-a096-f10c33c15856",
   "metadata": {},
   "outputs": [],
   "source": [
    "#Using map():"
   ]
  },
  {
   "cell_type": "code",
   "execution_count": 4,
   "id": "4774a579-2e49-4613-ac83-305508fe7741",
   "metadata": {},
   "outputs": [],
   "source": [
    "numbers = [1, 2, 3, 4, 5]\n",
    "squared_numbers = map(lambda x: x ** 2, numbers)\n",
    "squared_numbers_list = list(squared_numbers)\n"
   ]
  },
  {
   "cell_type": "code",
   "execution_count": 5,
   "id": "63db36f0-e463-4789-8bdd-2bb198f1fde0",
   "metadata": {},
   "outputs": [],
   "source": [
    "#Using List Comprehension:"
   ]
  },
  {
   "cell_type": "code",
   "execution_count": 6,
   "id": "df7d1d74-5d79-4a83-9f7c-a7952121a98a",
   "metadata": {},
   "outputs": [],
   "source": [
    "numbers = [1, 2, 3, 4, 5]\n",
    "squared_numbers = [x ** 2 for x in numbers]\n"
   ]
  },
  {
   "cell_type": "markdown",
   "id": "823617b5-d51c-4fd5-bf72-6be2c8aa5119",
   "metadata": {},
   "source": [
    "q.4 Create a Python program that uses the `map()` function to convert a list of names to uppercase."
   ]
  },
  {
   "cell_type": "code",
   "execution_count": 7,
   "id": "9b4cb6bc-c1e7-4718-96a5-70eee4571d1c",
   "metadata": {},
   "outputs": [
    {
     "name": "stdout",
     "output_type": "stream",
     "text": [
      "['ALICE', 'BOB', 'CHARLIE', 'DAVID', 'EVE']\n"
     ]
    }
   ],
   "source": [
    "# Function to convert a name to uppercase\n",
    "def convert_to_uppercase(name):\n",
    "    return name.upper()\n",
    "\n",
    "# Create a list of names\n",
    "names = [\"Alice\", \"Bob\", \"Charlie\", \"David\", \"Eve\"]\n",
    "\n",
    "# Use map() to apply the convert_to_uppercase function to each name in the list\n",
    "uppercased_names = map(convert_to_uppercase, names)\n",
    "\n",
    "# Convert the result to a list (map() returns an iterator)\n",
    "uppercased_names_list = list(uppercased_names)\n",
    "\n",
    "# Print the uppercased names\n",
    "print(uppercased_names_list)\n"
   ]
  },
  {
   "cell_type": "markdown",
   "id": "0539e96b-ae8d-47b0-ac04-b0118d075f7a",
   "metadata": {},
   "source": [
    "q.5 Write a Python program that uses the `map()` function to calculate the length of each word in a list of strings.\n"
   ]
  },
  {
   "cell_type": "code",
   "execution_count": 8,
   "id": "efe8ec27-6bc4-47cf-8a03-6cef2a2ee6fb",
   "metadata": {},
   "outputs": [
    {
     "name": "stdout",
     "output_type": "stream",
     "text": [
      "[5, 6, 6, 4, 10]\n"
     ]
    }
   ],
   "source": [
    "# Function to calculate the length of a word\n",
    "def word_length(word):\n",
    "    return len(word)\n",
    "\n",
    "# Create a list of strings\n",
    "strings = [\"apple\", \"banana\", \"cherry\", \"date\", \"elderberry\"]\n",
    "\n",
    "# Use map() to apply the word_length function to each word in the list\n",
    "word_lengths = map(word_length, strings)\n",
    "\n",
    "# Convert the result to a list (map() returns an iterator)\n",
    "word_lengths_list = list(word_lengths)\n",
    "\n",
    "# Print the word lengths\n",
    "print(word_lengths_list)\n"
   ]
  },
  {
   "cell_type": "markdown",
   "id": "c6750651-4d71-4666-b05d-3ec97d84cd53",
   "metadata": {},
   "source": [
    "q.6 How can you use the `map()` function to apply a custom function to elements of multiple lists simultaneously in Python"
   ]
  },
  {
   "cell_type": "code",
   "execution_count": 9,
   "id": "d8c07677-2925-4c3a-8f8c-e59b486e674b",
   "metadata": {},
   "outputs": [
    {
     "name": "stdout",
     "output_type": "stream",
     "text": [
      "['apple - red', 'banana - yellow', 'cherry - red']\n"
     ]
    }
   ],
   "source": [
    "# Define a custom function to combine elements from multiple lists\n",
    "def combine_elements(a, b):\n",
    "    return f\"{a} - {b}\"\n",
    "\n",
    "# Create two lists\n",
    "list1 = [\"apple\", \"banana\", \"cherry\"]\n",
    "list2 = [\"red\", \"yellow\", \"red\"]\n",
    "\n",
    "# Use map() and zip() to apply the combine_elements function to corresponding elements\n",
    "combined_lists = map(combine_elements, list1, list2)\n",
    "\n",
    "# Convert the result to a list (map() returns an iterator)\n",
    "combined_lists_list = list(combined_lists)\n",
    "\n",
    "# Print the combined lists\n",
    "print(combined_lists_list)\n"
   ]
  },
  {
   "cell_type": "markdown",
   "id": "103de181-6877-4b47-8caa-41c0203de878",
   "metadata": {},
   "source": [
    "q.7 Create a Python program that uses `map()` to convert a list of temperatures from Celsius to Fahrenheit."
   ]
  },
  {
   "cell_type": "code",
   "execution_count": 10,
   "id": "82ea5cc1-e5de-4ce6-bca3-8b3a47c6904b",
   "metadata": {},
   "outputs": [
    {
     "name": "stdout",
     "output_type": "stream",
     "text": [
      "[32.0, 50.0, 68.0, 86.0, 104.0]\n"
     ]
    }
   ],
   "source": [
    "# Function to convert Celsius to Fahrenheit\n",
    "def celsius_to_fahrenheit(celsius):\n",
    "    return (celsius * 9/5) + 32\n",
    "\n",
    "# Create a list of temperatures in Celsius\n",
    "celsius_temperatures = [0, 10, 20, 30, 40]\n",
    "\n",
    "# Use map() to apply the celsius_to_fahrenheit function to each temperature in the list\n",
    "fahrenheit_temperatures = map(celsius_to_fahrenheit, celsius_temperatures)\n",
    "\n",
    "# Convert the result to a list (map() returns an iterator)\n",
    "fahrenheit_temperatures_list = list(fahrenheit_temperatures)\n",
    "\n",
    "# Print the Fahrenheit temperatures\n",
    "print(fahrenheit_temperatures_list)\n"
   ]
  },
  {
   "cell_type": "code",
   "execution_count": 11,
   "id": "31bf5112-d4c3-4cbf-8f4f-c6ac1321f09a",
   "metadata": {},
   "outputs": [],
   "source": [
    "#Fahrenheit = (Celsius * 9/5) + 32\n"
   ]
  },
  {
   "cell_type": "markdown",
   "id": "30b4d5e1-a670-4b1c-8ab9-8338fe6ec63f",
   "metadata": {},
   "source": [
    "q.8 Write a Python program that uses the `map()` function to round each element of a list of floating-point numbers to the nearest integer"
   ]
  },
  {
   "cell_type": "code",
   "execution_count": 12,
   "id": "780bf6b4-fc13-4ed9-8e74-60077dd881bb",
   "metadata": {},
   "outputs": [
    {
     "name": "stdout",
     "output_type": "stream",
     "text": [
      "[2, 3, 3, 5, 5]\n"
     ]
    }
   ],
   "source": [
    "# Function to round a number to the nearest integer\n",
    "def round_to_integer(number):\n",
    "    return round(number)\n",
    "\n",
    "# Create a list of floating-point numbers\n",
    "float_numbers = [1.5, 2.7, 3.2, 4.8, 5.1]\n",
    "\n",
    "# Use map() to apply the round_to_integer function to each number in the list\n",
    "rounded_integers = map(round_to_integer, float_numbers)\n",
    "\n",
    "# Convert the result to a list (map() returns an iterator)\n",
    "rounded_integers_list = list(rounded_integers)\n",
    "\n",
    "# Print the rounded integers\n",
    "print(rounded_integers_list)\n"
   ]
  },
  {
   "cell_type": "markdown",
   "id": "060ff37e-d25d-42f6-b490-d40ce5422a9b",
   "metadata": {},
   "source": [
    "Reduce :-\n",
    "\n",
    "\n",
    "q.1 What is the `reduce()` function in Python, and what module should you import to use it? Provide an example of its basic usage.\n"
   ]
  },
  {
   "cell_type": "code",
   "execution_count": 13,
   "id": "f1423256-c345-4a2a-b95f-fb616d18f356",
   "metadata": {},
   "outputs": [
    {
     "name": "stdout",
     "output_type": "stream",
     "text": [
      "120\n"
     ]
    }
   ],
   "source": [
    "from functools import reduce\n",
    "\n",
    "# Define a function to multiply two numbers\n",
    "def multiply(x, y):\n",
    "    return x * y\n",
    "\n",
    "# Create a list of numbers\n",
    "numbers = [1, 2, 3, 4, 5]\n",
    "\n",
    "# Use reduce() to find the product of all numbers in the list\n",
    "product = reduce(multiply, numbers)\n",
    "\n",
    "# Print the product\n",
    "print(product)\n"
   ]
  },
  {
   "cell_type": "markdown",
   "id": "32a7a8e4-a42d-4a63-b100-75d3d0e019df",
   "metadata": {},
   "source": [
    "q.2 Write a Python program that uses the `reduce()` function to find the product of all elements in a list."
   ]
  },
  {
   "cell_type": "code",
   "execution_count": 14,
   "id": "189bc5b2-e67d-4606-af34-fc57da181532",
   "metadata": {},
   "outputs": [
    {
     "name": "stdout",
     "output_type": "stream",
     "text": [
      "120\n"
     ]
    }
   ],
   "source": [
    "from functools import reduce\n",
    "\n",
    "# Define a function to multiply two numbers\n",
    "def multiply(x, y):\n",
    "    return x * y\n",
    "\n",
    "# Create a list of numbers\n",
    "numbers = [1, 2, 3, 4, 5]\n",
    "\n",
    "# Use reduce() to find the product of all numbers in the list\n",
    "product = reduce(multiply, numbers)\n",
    "\n",
    "# Print the product\n",
    "print(product)\n"
   ]
  },
  {
   "cell_type": "markdown",
   "id": "835e2668-968f-463b-a032-dcde66ebd86e",
   "metadata": {},
   "source": [
    "q.3 Create a Python program that uses `reduce()` to find the maximum element in a list of numbers"
   ]
  },
  {
   "cell_type": "code",
   "execution_count": 15,
   "id": "158edd1f-bd52-4bf1-a3d4-a34dd256cc08",
   "metadata": {},
   "outputs": [
    {
     "name": "stdout",
     "output_type": "stream",
     "text": [
      "98\n"
     ]
    }
   ],
   "source": [
    "from functools import reduce\n",
    "\n",
    "# Define a function to find the maximum of two numbers\n",
    "def find_maximum(x, y):\n",
    "    return x if x > y else y\n",
    "\n",
    "# Create a list of numbers\n",
    "numbers = [12, 45, 78, 34, 98, 23, 56]\n",
    "\n",
    "# Use reduce() to find the maximum element in the list\n",
    "maximum = reduce(find_maximum, numbers)\n",
    "\n",
    "# Print the maximum element\n",
    "print(maximum)\n"
   ]
  },
  {
   "cell_type": "markdown",
   "id": "8863308f-1024-44e4-b5b7-21539af7c9f5",
   "metadata": {},
   "source": [
    "q.4 How can you use the `reduce()` function to concatenate a list of strings into a single string?\n"
   ]
  },
  {
   "cell_type": "code",
   "execution_count": 16,
   "id": "c4d928e6-bdc3-4a67-b8fe-eca5ddb60630",
   "metadata": {},
   "outputs": [
    {
     "name": "stdout",
     "output_type": "stream",
     "text": [
      "Hello, World!\n"
     ]
    }
   ],
   "source": [
    "from functools import reduce\n",
    "\n",
    "# Define a function to concatenate two strings\n",
    "def concatenate_strings(str1, str2):\n",
    "    return str1 + str2\n",
    "\n",
    "# Create a list of strings\n",
    "strings = [\"Hello\", \", \", \"World\", \"!\"]\n",
    "\n",
    "# Use reduce() to concatenate the list of strings into a single string\n",
    "concatenated_string = reduce(concatenate_strings, strings)\n",
    "\n",
    "# Print the concatenated string\n",
    "print(concatenated_string)\n"
   ]
  },
  {
   "cell_type": "markdown",
   "id": "d9015d5c-9dc5-4dfe-990c-eb225d786e60",
   "metadata": {},
   "source": [
    "q.5 Write a Python program that calculates the factorial of a number using the `reduce()` function"
   ]
  },
  {
   "cell_type": "code",
   "execution_count": 17,
   "id": "91cf30cc-7406-4093-a761-48542d01cd6a",
   "metadata": {},
   "outputs": [
    {
     "name": "stdin",
     "output_type": "stream",
     "text": [
      "Enter a non-negative integer:  29\n"
     ]
    },
    {
     "name": "stdout",
     "output_type": "stream",
     "text": [
      "The factorial of 29 is 8841761993739701954543616000000\n"
     ]
    }
   ],
   "source": [
    "from functools import reduce\n",
    "\n",
    "# Define a function to multiply two numbers\n",
    "def multiply(x, y):\n",
    "    return x * y\n",
    "\n",
    "# Input: Get the number for which you want to calculate the factorial\n",
    "try:\n",
    "    n = int(input(\"Enter a non-negative integer: \"))\n",
    "\n",
    "    # Check if n is a non-negative integer\n",
    "    if n < 0:\n",
    "        print(\"Factorial is not defined for negative numbers.\")\n",
    "    elif n == 0:\n",
    "        print(\"Factorial of 0 is 1.\")\n",
    "    else:\n",
    "        # Create a list of numbers from 1 to n\n",
    "        numbers = list(range(1, n + 1))\n",
    "\n",
    "        # Use reduce() to calculate the factorial\n",
    "        factorial = reduce(multiply, numbers)\n",
    "\n",
    "        # Print the factorial\n",
    "        print(f\"The factorial of {n} is {factorial}\")\n",
    "except ValueError:\n",
    "    print(\"Invalid input. Please enter a non-negative integer.\")\n"
   ]
  },
  {
   "cell_type": "markdown",
   "id": "5d149358-3efa-4790-b7f7-738d3ec799bc",
   "metadata": {},
   "source": [
    "q.6 Create a Python program that uses `reduce()` to find the GCD (Greatest Common Divisor) of a list of numbers."
   ]
  },
  {
   "cell_type": "code",
   "execution_count": 18,
   "id": "90a47e2c-a56f-4e65-8b05-8b59debdc5ae",
   "metadata": {},
   "outputs": [
    {
     "name": "stdout",
     "output_type": "stream",
     "text": [
      "The GCD of the numbers is 6\n"
     ]
    }
   ],
   "source": [
    "from functools import reduce\n",
    "import math\n",
    "\n",
    "# Define a function to find the GCD of two numbers\n",
    "def find_gcd(x, y):\n",
    "    return math.gcd(x, y)\n",
    "\n",
    "# Create a list of numbers\n",
    "numbers = [12, 18, 24, 36, 48]\n",
    "\n",
    "# Use reduce() to find the GCD of the list of numbers\n",
    "gcd_result = reduce(find_gcd, numbers)\n",
    "\n",
    "# Print the GCD\n",
    "print(f\"The GCD of the numbers is {gcd_result}\")\n"
   ]
  },
  {
   "cell_type": "markdown",
   "id": "d9929e61-ecd9-4404-9fb9-875c4f0a2f0a",
   "metadata": {},
   "source": [
    "q.7 Write a Python program that uses the `reduce()` function to find the sum of the digits of a given number"
   ]
  },
  {
   "cell_type": "code",
   "execution_count": 20,
   "id": "9fe517af-2664-4d3c-be27-bac83a0e69c4",
   "metadata": {},
   "outputs": [
    {
     "name": "stdin",
     "output_type": "stream",
     "text": [
      "Enter a positive integer:  29\n"
     ]
    },
    {
     "name": "stdout",
     "output_type": "stream",
     "text": [
      "The sum of digits in 29 is 11\n"
     ]
    }
   ],
   "source": [
    "from functools import reduce\n",
    "\n",
    "# Define a function to sum two digits\n",
    "def sum_digits(x, y):\n",
    "    return int(x) + int(y)\n",
    "\n",
    "# Input: Get the number from the user\n",
    "try:\n",
    "    number = int(input(\"Enter a positive integer: \"))\n",
    "\n",
    "    # Check if the number is positive\n",
    "    if number < 0:\n",
    "        print(\"Please enter a positive integer.\")\n",
    "    else:\n",
    "        # Convert the number to a string to access its digits\n",
    "        number_str = str(number)\n",
    "\n",
    "        # Use reduce() to sum the digits\n",
    "        digit_sum = reduce(sum_digits, number_str)\n",
    "\n",
    "        # Print the sum of digits\n",
    "        print(f\"The sum of digits in {number} is {digit_sum}\")\n",
    "except ValueError:\n",
    "    print(\"Invalid input. Please enter a positive integer.\")\n"
   ]
  },
  {
   "cell_type": "markdown",
   "id": "c82e325a-ee2a-4b08-8e27-af2107d77ac9",
   "metadata": {},
   "source": [
    "Filter :-\n",
    "\n",
    "\n",
    "q.1 Explain the purpose of the `filter()` function in Python and provide an example of how it can be used to filter elements from an iterable.\n"
   ]
  },
  {
   "cell_type": "code",
   "execution_count": 21,
   "id": "f18fb032-8667-4028-9e92-34b0abca55d3",
   "metadata": {},
   "outputs": [
    {
     "name": "stdout",
     "output_type": "stream",
     "text": [
      "[2, 4, 6, 8, 10]\n"
     ]
    }
   ],
   "source": [
    "# Define a function to check if a number is even\n",
    "def is_even(number):\n",
    "    return number % 2 == 0\n",
    "\n",
    "# Create a list of numbers\n",
    "numbers = [1, 2, 3, 4, 5, 6, 7, 8, 9, 10]\n",
    "\n",
    "# Use filter() to filter even numbers from the list\n",
    "even_numbers = filter(is_even, numbers)\n",
    "\n",
    "# Convert the result to a list (filter() returns an iterator)\n",
    "even_numbers_list = list(even_numbers)\n",
    "\n",
    "# Print the even numbers\n",
    "print(even_numbers_list)\n"
   ]
  },
  {
   "cell_type": "markdown",
   "id": "9f9d36ef-471f-4cd5-b89d-3386d9a1d9fb",
   "metadata": {},
   "source": [
    "q.2 Write a Python program that uses the `filter()` function to select even numbers from a list of integers.\n"
   ]
  },
  {
   "cell_type": "code",
   "execution_count": 22,
   "id": "f36708b2-8808-4232-b9c8-2a8eda6d787f",
   "metadata": {},
   "outputs": [
    {
     "name": "stdout",
     "output_type": "stream",
     "text": [
      "[2, 4, 6, 8, 10]\n"
     ]
    }
   ],
   "source": [
    "# Define a function to check if a number is even\n",
    "def is_even(number):\n",
    "    return number % 2 == 0\n",
    "\n",
    "# Create a list of numbers\n",
    "numbers = [1, 2, 3, 4, 5, 6, 7, 8, 9, 10]\n",
    "\n",
    "# Use filter() to select even numbers from the list\n",
    "even_numbers = filter(is_even, numbers)\n",
    "\n",
    "# Convert the result to a list (filter() returns an iterator)\n",
    "even_numbers_list = list(even_numbers)\n",
    "\n",
    "# Print the even numbers\n",
    "print(even_numbers_list)\n"
   ]
  },
  {
   "cell_type": "markdown",
   "id": "6a854d46-836f-436f-b6ea-8215a0452275",
   "metadata": {},
   "source": [
    "q.3 Create a Python program that uses the `filter()` function to select names that start with a specific letter from a list of strings."
   ]
  },
  {
   "cell_type": "code",
   "execution_count": 23,
   "id": "56e57c33-b110-4442-9deb-67c5bd50391e",
   "metadata": {},
   "outputs": [
    {
     "name": "stdout",
     "output_type": "stream",
     "text": [
      "['David']\n"
     ]
    }
   ],
   "source": [
    "# Define a function to filter names starting with a specific letter\n",
    "def starts_with_letter(letter, name):\n",
    "    return name.startswith(letter)\n",
    "\n",
    "# Create a list of names\n",
    "names = [\"Alice\", \"Bob\", \"Charlie\", \"David\", \"Eve\"]\n",
    "\n",
    "# Specify the letter to filter by\n",
    "letter_to_filter = \"D\"\n",
    "\n",
    "# Use filter() to select names starting with the specified letter\n",
    "filtered_names = filter(lambda name: starts_with_letter(letter_to_filter, name), names)\n",
    "\n",
    "# Convert the result to a list (filter() returns an iterator)\n",
    "filtered_names_list = list(filtered_names)\n",
    "\n",
    "# Print the filtered names\n",
    "print(filtered_names_list)\n"
   ]
  },
  {
   "cell_type": "markdown",
   "id": "197fa7ef-4e37-42c8-abc0-7f966446d327",
   "metadata": {},
   "source": [
    "q.4 Write a Python program that uses the `filter()` function to select prime numbers from a list of integers."
   ]
  },
  {
   "cell_type": "code",
   "execution_count": 24,
   "id": "335813f3-29bf-4850-b0bf-3620a5825e11",
   "metadata": {},
   "outputs": [
    {
     "name": "stdout",
     "output_type": "stream",
     "text": [
      "[2, 3, 5, 7, 11, 13, 17, 19]\n"
     ]
    }
   ],
   "source": [
    "# Define a function to check if a number is prime\n",
    "def is_prime(number):\n",
    "    if number <= 1:\n",
    "        return False\n",
    "    elif number <= 3:\n",
    "        return True\n",
    "    elif number % 2 == 0 or number % 3 == 0:\n",
    "        return False\n",
    "    i = 5\n",
    "    while i * i <= number:\n",
    "        if number % i == 0 or number % (i + 2) == 0:\n",
    "            return False\n",
    "        i += 6\n",
    "    return True\n",
    "\n",
    "# Create a list of integers\n",
    "numbers = [2, 3, 5, 7, 9, 10, 11, 13, 17, 19]\n",
    "\n",
    "# Use filter() to select prime numbers from the list\n",
    "prime_numbers = filter(is_prime, numbers)\n",
    "\n",
    "# Convert the result to a list (filter() returns an iterator)\n",
    "prime_numbers_list = list(prime_numbers)\n",
    "\n",
    "# Print the prime numbers\n",
    "print(prime_numbers_list)\n"
   ]
  },
  {
   "cell_type": "markdown",
   "id": "482cabf8-cfa2-406e-bb7a-9cb411a79ced",
   "metadata": {},
   "source": [
    "q.5 How can you use the `filter()` function to remove None values from a list in Python"
   ]
  },
  {
   "cell_type": "code",
   "execution_count": 25,
   "id": "0ea6a410-3f83-4071-8970-8c809f3f1919",
   "metadata": {},
   "outputs": [
    {
     "name": "stdout",
     "output_type": "stream",
     "text": [
      "[1, 'Hello', 42, 'World']\n"
     ]
    }
   ],
   "source": [
    "# Define a function to filter non-None values\n",
    "def is_not_none(value):\n",
    "    return value is not None\n",
    "\n",
    "# Create a list with None values\n",
    "values = [1, None, \"Hello\", None, 42, None, \"World\"]\n",
    "\n",
    "# Use filter() to remove None values from the list\n",
    "filtered_values = filter(is_not_none, values)\n",
    "\n",
    "# Convert the result to a list (filter() returns an iterator)\n",
    "filtered_values_list = list(filtered_values)\n",
    "\n",
    "# Print the filtered values\n",
    "print(filtered_values_list)\n"
   ]
  },
  {
   "cell_type": "markdown",
   "id": "c3dbb9e9-0ecb-43cc-ab4c-1ef1089bfe05",
   "metadata": {},
   "source": [
    "q.6 Create a Python program that uses `filter()` to select words longer than a certain length from a list of strings."
   ]
  },
  {
   "cell_type": "code",
   "execution_count": 27,
   "id": "255aadba-cea3-4050-b486-da5be3db0197",
   "metadata": {},
   "outputs": [
    {
     "name": "stdout",
     "output_type": "stream",
     "text": [
      "['banana', 'cherry', 'elderberry']\n"
     ]
    }
   ],
   "source": [
    "# Define a function to filter words longer than a certain length\n",
    "def is_long_word(word, length):\n",
    "    return len(word) > length\n",
    "\n",
    "# Create a list of strings containing words\n",
    "words = [\"apple\", \"banana\", \"cherry\", \"date\", \"elderberry\", \"fig\", \"grape\"]\n",
    "\n",
    "# Specify the minimum length for filtering\n",
    "min_length = 5\n",
    "\n",
    "# Use filter() to select words longer than the specified length\n",
    "long_words = filter(lambda word: is_long_word(word, min_length), words)\n",
    "\n",
    "# Convert the result to a list (filter() returns an iterator)\n",
    "long_words_list = list(long_words)\n",
    "\n",
    "# Print the long words\n",
    "print(long_words_list)\n"
   ]
  },
  {
   "cell_type": "markdown",
   "id": "8cda23da-30a7-4ece-ba5e-afb464049d7d",
   "metadata": {},
   "source": [
    "q.7 Write a Python program that uses the `filter()` function to select elements greater than a specified threshold from a list of values."
   ]
  },
  {
   "cell_type": "code",
   "execution_count": 28,
   "id": "d513e1da-f9d2-49a9-a874-fb482d1e76b4",
   "metadata": {},
   "outputs": [
    {
     "name": "stdout",
     "output_type": "stream",
     "text": [
      "[25, 30, 40]\n"
     ]
    }
   ],
   "source": [
    "# Define a function to filter values greater than a threshold\n",
    "def is_greater_than_threshold(value, threshold):\n",
    "    return value > threshold\n",
    "\n",
    "# Create a list of values\n",
    "values = [10, 25, 5, 30, 15, 8, 40]\n",
    "\n",
    "# Specify the threshold for filtering\n",
    "threshold = 20\n",
    "\n",
    "# Use filter() to select values greater than the specified threshold\n",
    "filtered_values = filter(lambda value: is_greater_than_threshold(value, threshold), values)\n",
    "\n",
    "# Convert the result to a list (filter() returns an iterator)\n",
    "filtered_values_list = list(filtered_values)\n",
    "\n",
    "# Print the filtered values\n",
    "print(filtered_values_list)\n"
   ]
  },
  {
   "cell_type": "markdown",
   "id": "a26a088c-045f-4705-9f26-df8e2922fd81",
   "metadata": {},
   "source": [
    "Recursion:-\n",
    "\n",
    "q.1 Explain the concept of recursion in Python. How does it differ from iteration?\n"
   ]
  },
  {
   "cell_type": "code",
   "execution_count": 1,
   "id": "b9739fe2-a999-46b5-89ea-a71761407138",
   "metadata": {},
   "outputs": [],
   "source": [
    "def factorial(n):\n",
    "    if n == 0:\n",
    "        return 1  # Base case\n",
    "    else:\n",
    "        return n * factorial(n - 1)  # Recursive case\n"
   ]
  },
  {
   "cell_type": "code",
   "execution_count": 2,
   "id": "f310b001-4087-4b3e-bdf5-c72e6f566f04",
   "metadata": {},
   "outputs": [],
   "source": [
    "def factorial(n):\n",
    "    result = 1\n",
    "    for i in range(1, n + 1):\n",
    "        result *= i\n",
    "    return result\n"
   ]
  },
  {
   "cell_type": "markdown",
   "id": "30e3f7df-eb09-4cbf-a255-aa2bcea787e6",
   "metadata": {},
   "source": [
    "q.2 Write a Python program to calculate the factorial of a number using recursion.\n"
   ]
  },
  {
   "cell_type": "markdown",
   "id": "c785c185-dfc2-43e9-80bc-4f95c6835e81",
   "metadata": {},
   "source": [
    "def factorial(n):\n",
    "    # Base case: if n is 0 or 1, return 1\n",
    "    if n == 0 or n == 1:\n",
    "        return 1\n",
    "    # Recursive case: n! = n * (n-1)!\n",
    "    else:\n",
    "        return n * factorial(n - 1)\n",
    "\n",
    "# Input from the user\n",
    "num = int(input(\"Enter a non-negative integer: \"))\n",
    "\n",
    "if num < 0:\n",
    "    print(\"Factorial is not defined for negative numbers.\")\n",
    "else:\n",
    "    result = factorial(num)\n",
    "    print(f\"The factorial of {num} is {result}\")\n"
   ]
  },
  {
   "cell_type": "markdown",
   "id": "12447e8b-c4a2-49b7-84da-0491ee23e203",
   "metadata": {},
   "source": [
    "q.3 Create a recursive Python function to find the nth Fibonacci number."
   ]
  },
  {
   "cell_type": "code",
   "execution_count": 4,
   "id": "758d28d6-6a4d-4547-9942-bd4100ce4584",
   "metadata": {},
   "outputs": [
    {
     "name": "stdin",
     "output_type": "stream",
     "text": [
      "Enter a non-negative integer n:  25\n"
     ]
    },
    {
     "name": "stdout",
     "output_type": "stream",
     "text": [
      "The 25th Fibonacci number is 75025\n"
     ]
    }
   ],
   "source": [
    "def fibonacci(n):\n",
    "    # Base cases: Fibonacci(0) = 0 and Fibonacci(1) = 1\n",
    "    if n == 0:\n",
    "        return 0\n",
    "    elif n == 1:\n",
    "        return 1\n",
    "    # Recursive case: Fibonacci(n) = Fibonacci(n-1) + Fibonacci(n-2)\n",
    "    else:\n",
    "        return fibonacci(n - 1) + fibonacci(n - 2)\n",
    "\n",
    "# Input from the user\n",
    "n = int(input(\"Enter a non-negative integer n: \"))\n",
    "\n",
    "if n < 0:\n",
    "    print(\"Fibonacci sequence is not defined for negative indices.\")\n",
    "else:\n",
    "    result = fibonacci(n)\n",
    "    print(f\"The {n}th Fibonacci number is {result}\")\n"
   ]
  },
  {
   "cell_type": "markdown",
   "id": "25b964e1-1b0c-4308-bea8-c1062d24bf33",
   "metadata": {},
   "source": [
    "q.4 Write a recursive Python function to calculate the sum of all elements in a list.\n"
   ]
  },
  {
   "cell_type": "code",
   "execution_count": 5,
   "id": "86aba056-5304-420e-a64b-0a347c2b4532",
   "metadata": {},
   "outputs": [
    {
     "name": "stdout",
     "output_type": "stream",
     "text": [
      "The sum of the elements in the list is 15\n"
     ]
    }
   ],
   "source": [
    "def recursive_sum(lst):\n",
    "    # Base case: If the list is empty, return 0\n",
    "    if not lst:\n",
    "        return 0\n",
    "    # Recursive case: Return the sum of the first element and the sum of the rest of the list\n",
    "    else:\n",
    "        return lst[0] + recursive_sum(lst[1:])\n",
    "\n",
    "# Example usage:\n",
    "my_list = [1, 2, 3, 4, 5]\n",
    "result = recursive_sum(my_list)\n",
    "print(f\"The sum of the elements in the list is {result}\")\n"
   ]
  },
  {
   "cell_type": "markdown",
   "id": "0838eaef-301e-49f8-9b47-e56171f6e8fe",
   "metadata": {},
   "source": [
    "q.5 How can you prevent a recursive function from running indefinitely, causing a stack overflow error"
   ]
  },
  {
   "cell_type": "code",
   "execution_count": 6,
   "id": "cb690c32-ee79-4277-9eee-f9823afd508e",
   "metadata": {},
   "outputs": [
    {
     "name": "stdout",
     "output_type": "stream",
     "text": [
      "The factorial is 120\n"
     ]
    }
   ],
   "source": [
    "def factorial(n):\n",
    "    # Check for invalid input\n",
    "    if n < 0:\n",
    "        raise ValueError(\"Factorial is not defined for negative numbers.\")\n",
    "    # Base case: factorial of 0 is 1\n",
    "    elif n == 0:\n",
    "        return 1\n",
    "    # Recursive case\n",
    "    else:\n",
    "        return n * factorial(n - 1)\n",
    "\n",
    "# Example usage:\n",
    "try:\n",
    "    result = factorial(5)\n",
    "    print(f\"The factorial is {result}\")\n",
    "except ValueError as e:\n",
    "    print(e)\n"
   ]
  },
  {
   "cell_type": "markdown",
   "id": "deb696f3-2fba-405e-a8e9-68d61360579a",
   "metadata": {},
   "source": [
    "q.6 Create a recursive Python function to find the greatest common divisor (GCD) of two numbers using the Euclidean algorithm"
   ]
  },
  {
   "cell_type": "code",
   "execution_count": 7,
   "id": "2707ced5-1a39-4df3-a0e4-dc2bedeffd27",
   "metadata": {},
   "outputs": [
    {
     "name": "stdout",
     "output_type": "stream",
     "text": [
      "The GCD of 48 and 18 is 6\n"
     ]
    }
   ],
   "source": [
    "def gcd(a, b):\n",
    "    # Base case: GCD(a, 0) = a\n",
    "    if b == 0:\n",
    "        return a\n",
    "    # Recursive case: GCD(a, b) = GCD(b, a % b)\n",
    "    else:\n",
    "        return gcd(b, a % b)\n",
    "\n",
    "# Example usage:\n",
    "num1 = 48\n",
    "num2 = 18\n",
    "result = gcd(num1, num2)\n",
    "print(f\"The GCD of {num1} and {num2} is {result}\")\n"
   ]
  },
  {
   "cell_type": "markdown",
   "id": "27eb8998-30e7-4983-bbc1-e9c234b25731",
   "metadata": {},
   "source": [
    "q.7 Write a recursive Python function to reverse a string.\n"
   ]
  },
  {
   "cell_type": "code",
   "execution_count": 8,
   "id": "2f50a9c6-bd3c-4051-b362-4e5e16a340b2",
   "metadata": {},
   "outputs": [
    {
     "name": "stdout",
     "output_type": "stream",
     "text": [
      "The reversed string is: !dlroW ,olleH\n"
     ]
    }
   ],
   "source": [
    "def reverse_string(s):\n",
    "    # Base case: If the string is empty or has only one character, return it as-is\n",
    "    if len(s) <= 1:\n",
    "        return s\n",
    "    # Recursive case: Reverse the substring excluding the first character and append the first character at the end\n",
    "    else:\n",
    "        return reverse_string(s[1:]) + s[0]\n",
    "\n",
    "# Example usage:\n",
    "input_string = \"Hello, World!\"\n",
    "result = reverse_string(input_string)\n",
    "print(f\"The reversed string is: {result}\")\n"
   ]
  },
  {
   "cell_type": "markdown",
   "id": "83df51a7-5b98-4846-b5aa-d7f1d999d5bb",
   "metadata": {},
   "source": [
    "q.8 Create a recursive Python function to calculate the power of a number (x^n)"
   ]
  },
  {
   "cell_type": "code",
   "execution_count": 9,
   "id": "a6c5113b-5910-40c5-9a61-4a9784713ba9",
   "metadata": {},
   "outputs": [
    {
     "name": "stdout",
     "output_type": "stream",
     "text": [
      "2^5 is equal to 32\n"
     ]
    }
   ],
   "source": [
    "def power(x, n):\n",
    "    # Base case: x^0 = 1 for any nonzero x\n",
    "    if n == 0:\n",
    "        return 1\n",
    "    # Recursive case: x^n = x * x^(n-1)\n",
    "    else:\n",
    "        return x * power(x, n - 1)\n",
    "\n",
    "# Example usage:\n",
    "base = 2\n",
    "exponent = 5\n",
    "result = power(base, exponent)\n",
    "print(f\"{base}^{exponent} is equal to {result}\")\n"
   ]
  },
  {
   "cell_type": "markdown",
   "id": "6a8c792d-e353-4ad1-853b-6cd023c1c2f5",
   "metadata": {},
   "source": [
    "q.9 Write a recursive Python function to find all permutations of a given string.\n"
   ]
  },
  {
   "cell_type": "code",
   "execution_count": 10,
   "id": "a4893686-4fa2-4a74-8b55-43b72907b47f",
   "metadata": {},
   "outputs": [
    {
     "name": "stdout",
     "output_type": "stream",
     "text": [
      "All permutations of abc are:\n",
      "abc\n",
      "acb\n",
      "bac\n",
      "bca\n",
      "cab\n",
      "cba\n"
     ]
    }
   ],
   "source": [
    "def get_permutations(s):\n",
    "    # Base case: If the string has only one character or is empty, return it as a single permutation\n",
    "    if len(s) <= 1:\n",
    "        return [s]\n",
    "\n",
    "    # Recursive case:\n",
    "    permutations = []\n",
    "    for i in range(len(s)):\n",
    "        # Choose a character to fix at position i\n",
    "        fixed_char = s[i]\n",
    "\n",
    "        # Generate permutations of the remaining characters (excluding the fixed character)\n",
    "        remaining_chars = s[:i] + s[i + 1:]\n",
    "        sub_permutations = get_permutations(remaining_chars)\n",
    "\n",
    "        # Append the fixed character to each permutation of the remaining characters\n",
    "        for sub_permutation in sub_permutations:\n",
    "            permutations.append(fixed_char + sub_permutation)\n",
    "\n",
    "    return permutations\n",
    "\n",
    "# Example usage:\n",
    "input_string = \"abc\"\n",
    "result = get_permutations(input_string)\n",
    "print(\"All permutations of\", input_string, \"are:\")\n",
    "for perm in result:\n",
    "    print(perm)\n"
   ]
  },
  {
   "cell_type": "markdown",
   "id": "257d5c13-6dc0-4394-9032-441e36174387",
   "metadata": {},
   "source": [
    "q.10 Write a recursive Python function to check if a string is a palindrome.\n"
   ]
  },
  {
   "cell_type": "code",
   "execution_count": 11,
   "id": "38a49a1c-cb2e-4447-8d4c-61c8675fc244",
   "metadata": {},
   "outputs": [
    {
     "name": "stdout",
     "output_type": "stream",
     "text": [
      "racecar is a palindrome.\n"
     ]
    }
   ],
   "source": [
    "def is_palindrome(s):\n",
    "    # Base case: An empty string or a string with one character is a palindrome\n",
    "    if len(s) <= 1:\n",
    "        return True\n",
    "\n",
    "    # Recursive case:\n",
    "    first_char = s[0]\n",
    "    last_char = s[-1]\n",
    "\n",
    "    # Check if the first and last characters are the same\n",
    "    if first_char != last_char:\n",
    "        return False\n",
    "\n",
    "    # If the first and last characters match, recursively check the substring without these characters\n",
    "    return is_palindrome(s[1:-1])\n",
    "\n",
    "# Example usage:\n",
    "input_string = \"racecar\"\n",
    "if is_palindrome(input_string):\n",
    "    print(input_string, \"is a palindrome.\")\n",
    "else:\n",
    "    print(input_string, \"is not a palindrome.\")\n"
   ]
  },
  {
   "cell_type": "markdown",
   "id": "e2ce0f91-c1a9-4c29-b9a5-d05c6eb4179b",
   "metadata": {},
   "source": [
    "q.11 Create a recursive Python function to generate all possible combinations of a list of elements.\n"
   ]
  },
  {
   "cell_type": "code",
   "execution_count": 12,
   "id": "8a1d42dd-2f61-47ae-9868-ebdfb5cba8d0",
   "metadata": {},
   "outputs": [
    {
     "name": "stdout",
     "output_type": "stream",
     "text": [
      "All combinations of 2 elements from [1, 2, 3, 4] are:\n",
      "[1, 2]\n",
      "[1, 3]\n",
      "[1, 4]\n",
      "[2, 3]\n",
      "[2, 4]\n",
      "[3, 4]\n"
     ]
    }
   ],
   "source": [
    "def generate_combinations(elements, k):\n",
    "    def backtrack(start, current_combination):\n",
    "        if len(current_combination) == k:\n",
    "            combinations.append(current_combination[:])  # Add a copy of the current combination\n",
    "            return\n",
    "\n",
    "        for i in range(start, len(elements)):\n",
    "            current_combination.append(elements[i])\n",
    "            backtrack(i + 1, current_combination)\n",
    "            current_combination.pop()\n",
    "\n",
    "    combinations = []\n",
    "    backtrack(0, [])\n",
    "    return combinations\n",
    "\n",
    "# Example usage:\n",
    "input_list = [1, 2, 3, 4]\n",
    "k = 2\n",
    "result = generate_combinations(input_list, k)\n",
    "print(f\"All combinations of {k} elements from {input_list} are:\")\n",
    "for combo in result:\n",
    "    print(combo)\n"
   ]
  },
  {
   "cell_type": "markdown",
   "id": "79ff6fbe-907e-4719-8f8b-fcaa0bbcc8e1",
   "metadata": {},
   "source": [
    "Basics of Functions:\n",
    "\n",
    "q.1 What is a function in Python, and why is it used?\n"
   ]
  },
  {
   "cell_type": "code",
   "execution_count": 14,
   "id": "6512b56d-4cd8-4d93-bf3e-b25dd7b911d4",
   "metadata": {},
   "outputs": [
    {
     "name": "stdout",
     "output_type": "stream",
     "text": [
      "The sum is: 8\n"
     ]
    }
   ],
   "source": [
    "def add_numbers(a, b):\n",
    "    result = a + b\n",
    "    return result\n",
    "\n",
    "# Calling the function\n",
    "sum_result = add_numbers(5, 3)\n",
    "print(\"The sum is:\", sum_result)\n"
   ]
  },
  {
   "cell_type": "markdown",
   "id": "7f766c30-1264-41fa-9e17-6956ca016855",
   "metadata": {},
   "source": [
    "q.2 How do you define a function in Python? Provide an example.\n"
   ]
  },
  {
   "cell_type": "code",
   "execution_count": 17,
   "id": "a05c7dfc-2cf3-4e16-be64-8ead555dbf44",
   "metadata": {},
   "outputs": [
    {
     "name": "stdout",
     "output_type": "stream",
     "text": [
      "Hello, Alice!\n"
     ]
    }
   ],
   "source": [
    "# Define a function named \"greet\" that takes one parameter \"name\"\n",
    "def greet(name):\n",
    "    # Function body\n",
    "    message = f\"Hello, {name}!\"\n",
    "    return message\n",
    "\n",
    "# Call the function and store the result in a variable\n",
    "greeting_message = greet(\"Alice\")\n",
    "\n",
    "# Print the result\n",
    "print(greeting_message)\n"
   ]
  },
  {
   "cell_type": "markdown",
   "id": "8eb45a27-05d3-42dd-bac4-a73649601238",
   "metadata": {},
   "source": [
    "q.3  Explain the difference between a function definition and a function cal"
   ]
  },
  {
   "cell_type": "code",
   "execution_count": 18,
   "id": "80d4024e-ca99-48aa-ac96-b3d612432699",
   "metadata": {},
   "outputs": [],
   "source": [
    "def add(a, b):\n",
    "    return a + b\n"
   ]
  },
  {
   "cell_type": "markdown",
   "id": "767477cb-da56-4693-97d3-df23a93e7c82",
   "metadata": {},
   "source": [
    "q.4 Write a Python program that defines a function to calculate the sum of two numbers and then calls the function"
   ]
  },
  {
   "cell_type": "code",
   "execution_count": 19,
   "id": "ef51a120-9395-4d80-8bbf-87a4cef7634d",
   "metadata": {},
   "outputs": [
    {
     "name": "stdin",
     "output_type": "stream",
     "text": [
      "Enter the first number:  10\n",
      "Enter the second number:  20\n"
     ]
    },
    {
     "name": "stdout",
     "output_type": "stream",
     "text": [
      "The sum of 10.0 and 20.0 is 30.0\n"
     ]
    }
   ],
   "source": [
    "# Define a function to calculate the sum of two numbers\n",
    "def add_numbers(a, b):\n",
    "    sum_result = a + b\n",
    "    return sum_result\n",
    "\n",
    "# Input from the user\n",
    "num1 = float(input(\"Enter the first number: \"))\n",
    "num2 = float(input(\"Enter the second number: \"))\n",
    "\n",
    "# Call the function and store the result in a variable\n",
    "result = add_numbers(num1, num2)\n",
    "\n",
    "# Display the result\n",
    "print(f\"The sum of {num1} and {num2} is {result}\")\n"
   ]
  },
  {
   "cell_type": "markdown",
   "id": "38c5b879-4d1a-4b97-b2cb-d8d3a830b1d8",
   "metadata": {},
   "source": [
    "q.5 What is a function signature, and what information does it typically include?"
   ]
  },
  {
   "cell_type": "code",
   "execution_count": 20,
   "id": "910041be-7aa7-4bd3-b775-563bba85ca47",
   "metadata": {},
   "outputs": [
    {
     "ename": "SyntaxError",
     "evalue": "incomplete input (1315729264.py, line 1)",
     "output_type": "error",
     "traceback": [
      "\u001b[0;36m  Cell \u001b[0;32mIn[20], line 1\u001b[0;36m\u001b[0m\n\u001b[0;31m    def add_numbers(a: int, b: int) -> int:\u001b[0m\n\u001b[0m                                           ^\u001b[0m\n\u001b[0;31mSyntaxError\u001b[0m\u001b[0;31m:\u001b[0m incomplete input\n"
     ]
    }
   ],
   "source": [
    "def add_numbers(a: int, b: int) -> int:\n"
   ]
  },
  {
   "cell_type": "markdown",
   "id": "0273d383-bcc9-4e0f-99aa-08a11c71c862",
   "metadata": {},
   "source": [
    "q.6 Create a Python function that takes two arguments and returns their product."
   ]
  },
  {
   "cell_type": "code",
   "execution_count": 21,
   "id": "89fc4ecf-22e8-49bd-b212-c6938cc437fa",
   "metadata": {},
   "outputs": [
    {
     "name": "stdout",
     "output_type": "stream",
     "text": [
      "The product of 5 and 3 is 15\n"
     ]
    }
   ],
   "source": [
    "def multiply_numbers(a, b):\n",
    "    product = a * b\n",
    "    return product\n",
    "\n",
    "# Example usage:\n",
    "num1 = 5\n",
    "num2 = 3\n",
    "result = multiply_numbers(num1, num2)\n",
    "print(f\"The product of {num1} and {num2} is {result}\")\n"
   ]
  },
  {
   "cell_type": "markdown",
   "id": "4af47356-437e-4c23-b7bd-a8b80d8f515e",
   "metadata": {},
   "source": [
    "Function Parameters and Arguments:\n",
    "\n",
    "q.1 Explain the concepts of formal parameters and actual arguments in Python functions.\n"
   ]
  },
  {
   "cell_type": "code",
   "execution_count": 22,
   "id": "6019c785-6cd1-416c-bfad-e69be63f9230",
   "metadata": {},
   "outputs": [],
   "source": [
    "#Formal Parameters "
   ]
  },
  {
   "cell_type": "code",
   "execution_count": 23,
   "id": "e179d91b-e013-4035-9462-b7c6934e4597",
   "metadata": {},
   "outputs": [],
   "source": [
    "def add(a, b):\n",
    "    # Here, 'a' and 'b' are formal parameters.\n",
    "    sum_result = a + b\n",
    "    return sum_result\n"
   ]
  },
  {
   "cell_type": "code",
   "execution_count": 24,
   "id": "c0d72cdd-d4b0-42ff-acd4-a46e1c498e79",
   "metadata": {},
   "outputs": [],
   "source": [
    "#Actual Arguments"
   ]
  },
  {
   "cell_type": "code",
   "execution_count": 25,
   "id": "88acd4e8-d09e-45e7-ac04-6670d426d016",
   "metadata": {},
   "outputs": [],
   "source": [
    "num1 = 5\n",
    "num2 = 3\n",
    "result = add(num1, num2)\n",
    "# Here, 'num1' and 'num2' are actual arguments.\n"
   ]
  },
  {
   "cell_type": "markdown",
   "id": "e52ce334-19e2-4986-8ffa-e5cd82dffca9",
   "metadata": {},
   "source": [
    "q.2 Write a Python program that defines a function with default argument values.\n"
   ]
  },
  {
   "cell_type": "code",
   "execution_count": 26,
   "id": "476363ae-3f00-44bc-a4db-9f797895de75",
   "metadata": {},
   "outputs": [
    {
     "name": "stdout",
     "output_type": "stream",
     "text": [
      "Hello, Guest!\n",
      "Hello, Alice!\n"
     ]
    }
   ],
   "source": [
    "def greet(name=\"Guest\"):\n",
    "    message = f\"Hello, {name}!\"\n",
    "    return message\n",
    "\n",
    "# Example usage without providing an argument (uses the default value)\n",
    "default_greeting = greet()\n",
    "print(default_greeting)\n",
    "\n",
    "# Example usage with an argument (overrides the default value)\n",
    "custom_greeting = greet(\"Alice\")\n",
    "print(custom_greeting)\n"
   ]
  },
  {
   "cell_type": "markdown",
   "id": "b58af770-3fe7-4f94-99a1-9de59694c019",
   "metadata": {},
   "source": [
    "q.3 How do you use keyword arguments in Python function calls? Provide an example"
   ]
  },
  {
   "cell_type": "code",
   "execution_count": 27,
   "id": "099f9c0f-29ce-4659-af16-e252590a570d",
   "metadata": {},
   "outputs": [
    {
     "name": "stdout",
     "output_type": "stream",
     "text": [
      "Hi, Alice!\n"
     ]
    }
   ],
   "source": [
    "def greet(name, greeting=\"Hello\"):\n",
    "    message = f\"{greeting}, {name}!\"\n",
    "    return message\n",
    "\n",
    "# Example usage with keyword arguments\n",
    "greeting_message = greet(greeting=\"Hi\", name=\"Alice\")\n",
    "print(greeting_message)\n"
   ]
  },
  {
   "cell_type": "markdown",
   "id": "bc13b06d-5b31-4fee-a900-39717367891d",
   "metadata": {},
   "source": [
    "q.4 Create a Python function that accepts a variable number of arguments and calculates their sum."
   ]
  },
  {
   "cell_type": "code",
   "execution_count": 28,
   "id": "13df2858-5476-4c55-bc55-bed798f9ff71",
   "metadata": {},
   "outputs": [
    {
     "name": "stdout",
     "output_type": "stream",
     "text": [
      "Sum 1: 6\n",
      "Sum 2: 150\n"
     ]
    }
   ],
   "source": [
    "def sum_numbers(*args):\n",
    "    total = 0\n",
    "    for num in args:\n",
    "        total += num\n",
    "    return total\n",
    "\n",
    "# Example usage with different numbers of arguments\n",
    "result1 = sum_numbers(1, 2, 3)\n",
    "result2 = sum_numbers(10, 20, 30, 40, 50)\n",
    "\n",
    "print(f\"Sum 1: {result1}\")\n",
    "print(f\"Sum 2: {result2}\")\n"
   ]
  },
  {
   "cell_type": "markdown",
   "id": "e1c38c9d-a6c0-4d13-9b41-412e2f12e135",
   "metadata": {},
   "source": [
    "q.5 What is the purpose of the `*args` and `**kwargs` syntax in function parameter lists?\n"
   ]
  },
  {
   "cell_type": "code",
   "execution_count": 29,
   "id": "48281631-fa7a-4301-87ac-fc6b1cecbe2c",
   "metadata": {},
   "outputs": [],
   "source": [
    "def sum_numbers(*args):\n",
    "    total = 0\n",
    "    for num in args:\n",
    "        total += num\n",
    "    return total\n",
    "\n",
    "result = sum_numbers(1, 2, 3, 4, 5)\n"
   ]
  },
  {
   "cell_type": "code",
   "execution_count": 30,
   "id": "60045e14-5844-4328-9820-04f255ce95e6",
   "metadata": {},
   "outputs": [],
   "source": [
    "def greet(**kwargs):\n",
    "    message = f\"Hello, {kwargs['name']}! You are {kwargs['age']} years old.\"\n",
    "    return message\n",
    "\n",
    "result = greet(name=\"Alice\", age=30)\n"
   ]
  },
  {
   "cell_type": "markdown",
   "id": "34935f7d-58bc-4cad-8e59-ca4ca3ed7820",
   "metadata": {},
   "source": [
    "Return Values and Scoping:\n",
    "\n",
    "q.1  Describe the role of the `return` statement in Python functions and provide examples.\n"
   ]
  },
  {
   "cell_type": "code",
   "execution_count": 31,
   "id": "792c7589-8be3-466a-b623-162d69970605",
   "metadata": {},
   "outputs": [],
   "source": [
    "#Returning a Single Value"
   ]
  },
  {
   "cell_type": "code",
   "execution_count": 32,
   "id": "2f6f9740-77eb-40a9-853c-2eab7458f52f",
   "metadata": {},
   "outputs": [
    {
     "name": "stdout",
     "output_type": "stream",
     "text": [
      "8\n"
     ]
    }
   ],
   "source": [
    "def add_numbers(a, b):\n",
    "    result = a + b\n",
    "    return result\n",
    "\n",
    "sum_result = add_numbers(3, 5)\n",
    "print(sum_result)  # Output: 8\n"
   ]
  },
  {
   "cell_type": "code",
   "execution_count": 33,
   "id": "321ec1cd-af4d-4b1f-863e-73067f628528",
   "metadata": {},
   "outputs": [],
   "source": [
    "#Returning Multiple Values"
   ]
  },
  {
   "cell_type": "code",
   "execution_count": 34,
   "id": "504d7016-53ac-45e5-aca9-d92e4b3c0fb4",
   "metadata": {},
   "outputs": [
    {
     "name": "stdout",
     "output_type": "stream",
     "text": [
      "Total: 150, Average: 30.0\n"
     ]
    }
   ],
   "source": [
    "def calculate_stats(numbers):\n",
    "    total = sum(numbers)\n",
    "    average = total / len(numbers)\n",
    "    return total, average\n",
    "\n",
    "data = [10, 20, 30, 40, 50]\n",
    "total_sum, avg = calculate_stats(data)\n",
    "print(f\"Total: {total_sum}, Average: {avg}\")\n",
    "# Output: Total: 150, Average: 30.0\n"
   ]
  },
  {
   "cell_type": "code",
   "execution_count": 35,
   "id": "563951d4-8c93-46ed-9779-ceebb3059471",
   "metadata": {},
   "outputs": [],
   "source": [
    "#Returning Early"
   ]
  },
  {
   "cell_type": "code",
   "execution_count": 36,
   "id": "500f1983-3213-4bcb-b255-7cded6bd12b9",
   "metadata": {},
   "outputs": [
    {
     "name": "stdout",
     "output_type": "stream",
     "text": [
      "False\n"
     ]
    }
   ],
   "source": [
    "def is_even(number):\n",
    "    if number % 2 == 0:\n",
    "        return True\n",
    "    return False  # This line is optional; you can simply 'return number % 2 == 0'\n",
    "\n",
    "result = is_even(7)\n",
    "print(result)  # Output: False\n"
   ]
  },
  {
   "cell_type": "markdown",
   "id": "d309799e-35f1-4967-9234-959f8537caea",
   "metadata": {},
   "source": [
    "q.2 Explain the concept of variable scope in Python, including local and global variables.\n"
   ]
  },
  {
   "cell_type": "code",
   "execution_count": 37,
   "id": "7a4124d1-4809-4b3e-996b-3517bf7925ac",
   "metadata": {},
   "outputs": [],
   "source": [
    "#Local Variables"
   ]
  },
  {
   "cell_type": "code",
   "execution_count": 38,
   "id": "cae79560-e483-4ae6-9c20-d5c488f3e8cd",
   "metadata": {},
   "outputs": [
    {
     "name": "stdout",
     "output_type": "stream",
     "text": [
      "10\n"
     ]
    },
    {
     "ename": "NameError",
     "evalue": "name 'x' is not defined",
     "output_type": "error",
     "traceback": [
      "\u001b[0;31m---------------------------------------------------------------------------\u001b[0m",
      "\u001b[0;31mNameError\u001b[0m                                 Traceback (most recent call last)",
      "Cell \u001b[0;32mIn[38], line 6\u001b[0m\n\u001b[1;32m      3\u001b[0m     \u001b[38;5;28mprint\u001b[39m(x)\n\u001b[1;32m      5\u001b[0m my_function()  \u001b[38;5;66;03m# Outputs: 10\u001b[39;00m\n\u001b[0;32m----> 6\u001b[0m \u001b[38;5;28mprint\u001b[39m(\u001b[43mx\u001b[49m)  \u001b[38;5;66;03m# Raises a NameError because 'x' is not defined in the global scope\u001b[39;00m\n",
      "\u001b[0;31mNameError\u001b[0m: name 'x' is not defined"
     ]
    }
   ],
   "source": [
    "def my_function():\n",
    "    x = 10  # 'x' is a local variable\n",
    "    print(x)\n",
    "\n",
    "my_function()  # Outputs: 10\n",
    "print(x)  # Raises a NameError because 'x' is not defined in the global scope\n"
   ]
  },
  {
   "cell_type": "code",
   "execution_count": 39,
   "id": "1b37687e-df91-45d4-ab29-a701cac349ad",
   "metadata": {},
   "outputs": [],
   "source": [
    "#Global Variables:"
   ]
  },
  {
   "cell_type": "code",
   "execution_count": 40,
   "id": "d90b0718-a90e-47ca-bb5c-8baa526d8646",
   "metadata": {},
   "outputs": [
    {
     "name": "stdout",
     "output_type": "stream",
     "text": [
      "20\n",
      "20\n"
     ]
    }
   ],
   "source": [
    "y = 20  # 'y' is a global variable\n",
    "\n",
    "def my_function():\n",
    "    print(y)\n",
    "\n",
    "my_function()  # Outputs: 20\n",
    "print(y)  # Outputs: 20\n"
   ]
  },
  {
   "cell_type": "code",
   "execution_count": 41,
   "id": "dd2a70c0-811b-4c35-a90e-cd5e14819d0b",
   "metadata": {},
   "outputs": [
    {
     "name": "stdout",
     "output_type": "stream",
     "text": [
      "5\n",
      "30\n"
     ]
    }
   ],
   "source": [
    "z = 30  # 'z' is a global variable\n",
    "\n",
    "def my_function():\n",
    "    z = 5  # 'z' is a local variable, shadowing the global 'z'\n",
    "    print(z)\n",
    "\n",
    "my_function()  # Outputs: 5\n",
    "print(z)  # Outputs: 30 (global 'z' is not affected)\n"
   ]
  },
  {
   "cell_type": "code",
   "execution_count": 42,
   "id": "1e8918d3-1f9b-437b-bc53-1bf7411f6b08",
   "metadata": {},
   "outputs": [
    {
     "name": "stdout",
     "output_type": "stream",
     "text": [
      "1\n"
     ]
    }
   ],
   "source": [
    "count = 0  # Global variable\n",
    "\n",
    "def increment_count():\n",
    "    global count\n",
    "    count += 1\n",
    "\n",
    "increment_count()\n",
    "print(count)  # Outputs: 1\n"
   ]
  },
  {
   "cell_type": "markdown",
   "id": "eb884b05-c588-4197-b1be-8723bff8528b",
   "metadata": {},
   "source": [
    "q.3 Write a Python program that demonstrates the use of global variables within functions."
   ]
  },
  {
   "cell_type": "code",
   "execution_count": 43,
   "id": "7f950a90-690b-455e-9f35-666cac427f1f",
   "metadata": {},
   "outputs": [
    {
     "name": "stdout",
     "output_type": "stream",
     "text": [
      "Global variable: 10\n",
      "Global variable: 15\n"
     ]
    }
   ],
   "source": [
    "# Define a global variable\n",
    "global_variable = 10\n",
    "\n",
    "# Function that modifies the global variable\n",
    "def modify_global_variable():\n",
    "    global global_variable  # Declare that we are using the global variable\n",
    "    global_variable += 5\n",
    "\n",
    "# Function that uses the global variable without modification\n",
    "def use_global_variable():\n",
    "    print(\"Global variable:\", global_variable)\n",
    "\n",
    "# Call the functions\n",
    "use_global_variable()  # Outputs: Global variable: 10\n",
    "modify_global_variable()\n",
    "use_global_variable()  # Outputs: Global variable: 15\n"
   ]
  },
  {
   "cell_type": "markdown",
   "id": "2745f529-9104-47ff-b366-ea3ad59ae421",
   "metadata": {},
   "source": [
    "q.4 Create a Python function that calculates the factorial of a number and returns it."
   ]
  },
  {
   "cell_type": "code",
   "execution_count": 44,
   "id": "694eba65-2638-44a2-840d-6239cbe5a3f6",
   "metadata": {},
   "outputs": [
    {
     "name": "stdout",
     "output_type": "stream",
     "text": [
      "The factorial of 5 is 120\n"
     ]
    }
   ],
   "source": [
    "def factorial(n):\n",
    "    if n == 0:\n",
    "        return 1\n",
    "    else:\n",
    "        return n * factorial(n - 1)\n",
    "\n",
    "# Example usage:\n",
    "number = 5\n",
    "result = factorial(number)\n",
    "print(f\"The factorial of {number} is {result}\")\n"
   ]
  },
  {
   "cell_type": "markdown",
   "id": "4bbb2c4f-402c-4503-9f4d-796250ee4012",
   "metadata": {},
   "source": [
    "q.5 How can you access variables defined outside a function from within the function?\n"
   ]
  },
  {
   "cell_type": "code",
   "execution_count": 45,
   "id": "49fe50aa-3fea-44dd-9d0a-c5589f03358b",
   "metadata": {},
   "outputs": [],
   "source": [
    "#Using the global Keyword:"
   ]
  },
  {
   "cell_type": "code",
   "execution_count": 46,
   "id": "2f981420-3a40-452d-ab55-2c927eaf757c",
   "metadata": {},
   "outputs": [
    {
     "name": "stdout",
     "output_type": "stream",
     "text": [
      "Inside the function: 10\n",
      "Outside the function: 10\n"
     ]
    }
   ],
   "source": [
    "global_variable = 10  # Define a global variable\n",
    "\n",
    "def access_global_variable():\n",
    "    global global_variable  # Declare that we are using the global variable\n",
    "    print(\"Inside the function:\", global_variable)\n",
    "\n",
    "access_global_variable()  # Outputs: Inside the function: 10\n",
    "print(\"Outside the function:\", global_variable)\n"
   ]
  },
  {
   "cell_type": "code",
   "execution_count": 47,
   "id": "0ea1087f-0e4f-48aa-8025-a7bc54d7eafe",
   "metadata": {},
   "outputs": [],
   "source": [
    "#Reading Global Variables (No global Keyword Required):"
   ]
  },
  {
   "cell_type": "code",
   "execution_count": 48,
   "id": "361131a7-72d1-4c42-963b-7b08fe25cb61",
   "metadata": {},
   "outputs": [
    {
     "name": "stdout",
     "output_type": "stream",
     "text": [
      "Inside the function (read): 10\n",
      "Outside the function: 10\n"
     ]
    }
   ],
   "source": [
    "global_variable = 10  # Define a global variable\n",
    "\n",
    "def read_global_variable():\n",
    "    print(\"Inside the function (read):\", global_variable)\n",
    "\n",
    "read_global_variable()  # Outputs: Inside the function (read): 10\n",
    "print(\"Outside the function:\", global_variable)\n"
   ]
  },
  {
   "cell_type": "markdown",
   "id": "8cccf1cf-1b04-459b-b260-1d618ca61c3c",
   "metadata": {},
   "source": [
    "Lambda Functions and Higher-Order Functions:\n",
    "\n",
    "q.1 What are lambda functions in Python, and when are they typically used?\n"
   ]
  },
  {
   "cell_type": "markdown",
   "id": "6112b467-bb33-48bc-8ba9-85be3a5225d9",
   "metadata": {},
   "source": [
    "Lambda functions in Python, often referred to as \"anonymous functions\" or \"lambda expressions,\" are a way to create small, unnamed, and inline functions. They are typically used when you need a simple function for a short period of time, often in situations where you would otherwise define a regular function using the def keyword. Lambda functions are defined using the lambda keyword, followed by one or more arguments, a colon (:), and an expression."
   ]
  },
  {
   "cell_type": "code",
   "execution_count": 1,
   "id": "94852a9d-c975-4c3c-b5dc-c730c6d3124d",
   "metadata": {},
   "outputs": [],
   "source": [
    "add = lambda x, y: x + y\n",
    "result = add(3, 5)  # result will be 8\n"
   ]
  },
  {
   "cell_type": "markdown",
   "id": "3c7b7f11-6901-498f-b3da-a599f80ff307",
   "metadata": {},
   "source": [
    "q.2 Write a Python program that uses lambda functions to sort a list of tuples based on the second element."
   ]
  },
  {
   "cell_type": "code",
   "execution_count": 2,
   "id": "2dbb25dc-639d-44a5-81fd-89c89b8be50d",
   "metadata": {},
   "outputs": [
    {
     "name": "stdout",
     "output_type": "stream",
     "text": [
      "(4, 3)\n",
      "(1, 5)\n",
      "(2, 8)\n",
      "(3, 10)\n"
     ]
    }
   ],
   "source": [
    "# Sample list of tuples\n",
    "tuples_list = [(3, 10), (1, 5), (2, 8), (4, 3)]\n",
    "\n",
    "# Sort the list of tuples based on the second element (index 1)\n",
    "sorted_list = sorted(tuples_list, key=lambda x: x[1])\n",
    "\n",
    "# Print the sorted list\n",
    "for item in sorted_list:\n",
    "    print(item)\n"
   ]
  },
  {
   "cell_type": "markdown",
   "id": "3fb76eb9-3964-4932-b869-be2dcfb31b7d",
   "metadata": {},
   "source": [
    "q.3 Explain the concept of higher-order functions in Python, and provide an example."
   ]
  },
  {
   "cell_type": "markdown",
   "id": "cdf55f55-d499-4816-bc1b-a4bfa805fbae",
   "metadata": {},
   "source": [
    "higher-order functions are functions that can accept other functions as arguments and/or return functions as their results. This concept is rooted in functional programming and allows for more flexible and expressive code. Higher-order functions enable you to treat functions as first-class citizens, just like any other data type, such as integers or strings.\n",
    "\n",
    "Here's a breakdown of the key concepts related to higher-order functions:\n",
    "\n",
    "Functions as Arguments: Higher-order functions can accept one or more functions as arguments. This allows you to pass custom behavior to a function.\n",
    "\n",
    "Functions as Return Values: Higher-order functions can also return functions as their results. This is particularly useful for creating specialized functions or closures.\n",
    "\n",
    "Abstraction and Reusability: Higher-order functions promote abstraction and code reusability by allowing you to encapsulate behavior that can be applied to different data or situations."
   ]
  },
  {
   "cell_type": "code",
   "execution_count": 3,
   "id": "66b3f5c1-4783-4193-9220-a864da9d7cb5",
   "metadata": {},
   "outputs": [],
   "source": [
    "# Higher-order function that takes a function as an argument\n",
    "def apply_operation(operation, x, y):\n",
    "    return operation(x, y)\n",
    "\n",
    "# Example functions that can be passed as arguments\n",
    "def add(x, y):\n",
    "    return x + y\n",
    "\n",
    "def subtract(x, y):\n",
    "    return x - y\n",
    "\n",
    "def multiply(x, y):\n",
    "    return x * y\n",
    "\n",
    "def divide(x, y):\n",
    "    if y != 0:\n",
    "        return x / y\n",
    "    else:\n",
    "        return \"Division by zero is not allowed.\"\n",
    "\n",
    "# Using the higher-order function with different operations\n",
    "result1 = apply_operation(add, 5, 3)        # Result: 8\n",
    "result2 = apply_operation(subtract, 10, 4)  # Result: 6\n",
    "result3 = apply_operation(multiply, 6, 2)   # Result: 12\n",
    "result4 = apply_operation(divide, 8, 0)    # Result: \"Division by zero is not allowed.\"\n"
   ]
  },
  {
   "cell_type": "markdown",
   "id": "41336e73-617b-400f-810c-17c5d26aa03e",
   "metadata": {},
   "source": [
    "q.4 Create a Python function that takes a list of numbers and a function as arguments, applying the function to each element in the list."
   ]
  },
  {
   "cell_type": "code",
   "execution_count": 4,
   "id": "b4c4dee6-1743-4c15-a433-3136ee755a28",
   "metadata": {},
   "outputs": [
    {
     "name": "stdout",
     "output_type": "stream",
     "text": [
      "Squared numbers: [1, 4, 9, 16, 25]\n",
      "Doubled numbers: [2, 4, 6, 8, 10]\n"
     ]
    }
   ],
   "source": [
    "def apply_function_to_list(numbers, func):\n",
    "    \"\"\"\n",
    "    Apply a given function to each element in a list of numbers.\n",
    "\n",
    "    Args:\n",
    "    numbers (list): A list of numbers.\n",
    "    func (function): The function to apply to each element in the list.\n",
    "\n",
    "    Returns:\n",
    "    list: A list containing the results of applying the function to each element.\n",
    "    \"\"\"\n",
    "    result = []\n",
    "    for num in numbers:\n",
    "        result.append(func(num))\n",
    "    return result\n",
    "\n",
    "# Example functions\n",
    "def square(x):\n",
    "    return x ** 2\n",
    "\n",
    "def double(x):\n",
    "    return x * 2\n",
    "\n",
    "# List of numbers\n",
    "numbers = [1, 2, 3, 4, 5]\n",
    "\n",
    "# Apply the square function to each number in the list\n",
    "squared_numbers = apply_function_to_list(numbers, square)\n",
    "print(\"Squared numbers:\", squared_numbers)  # Output: [1, 4, 9, 16, 25]\n",
    "\n",
    "# Apply the double function to each number in the list\n",
    "doubled_numbers = apply_function_to_list(numbers, double)\n",
    "print(\"Doubled numbers:\", doubled_numbers)  # Output: [2, 4, 6, 8, 10]\n"
   ]
  },
  {
   "cell_type": "markdown",
   "id": "3e76e845-3024-4c3d-9615-0efea03fc174",
   "metadata": {},
   "source": [
    "Built-in Functions:\n",
    "\n",
    "q.1  Describe the role of built-in functions like `len()`, `max()`, and `min()` in Python\n"
   ]
  },
  {
   "cell_type": "markdown",
   "id": "5fd00bc2-dd39-4fd7-86b6-75a73c2484bf",
   "metadata": {},
   "source": [
    "Built-in functions like len(), max(), and min() play a crucial role in Python for performing common operations on data structures, sequences, and collections. Here's a description of their roles and typical use cases:\n",
    "\n",
    "len() Function:\n",
    "\n",
    "Role: The len() function is used to determine the length or the number of elements in various Python data structures, including strings, lists, tuples, dictionaries, and sets.\n",
    "\n",
    "Typical Use Cases:\n",
    "\n",
    "Finding the number of elements in a list, tuple, or any iterable.\n",
    "Checking the length of a string (i.e., the number of characters).\n",
    "Verifying the number of key-value pairs in a dictionary.\n",
    "Ensuring the cardinality of elements in a set."
   ]
  },
  {
   "cell_type": "code",
   "execution_count": 5,
   "id": "506a0a09-9491-47a4-bfa7-9e8262aa9834",
   "metadata": {},
   "outputs": [],
   "source": [
    "my_list = [1, 2, 3, 4, 5]\n",
    "length = len(my_list)  # Result: 5\n"
   ]
  },
  {
   "cell_type": "markdown",
   "id": "26d3cc48-eaf8-49a1-8adc-e4f9a08d0f3f",
   "metadata": {},
   "source": [
    "max() Function:\n",
    "\n",
    "Role: The max() function is used to find the maximum (largest) value among a collection of values. It can be applied to a variety of data types, including numbers and strings.\n",
    "\n",
    "Typical Use Cases:\n",
    "\n",
    "Finding the maximum element in a list or iterable.\n",
    "Determining the largest character in a string (based on their Unicode values).\n",
    "Comparing multiple values and retrieving the largest one."
   ]
  },
  {
   "cell_type": "code",
   "execution_count": 6,
   "id": "bcf0da53-a99b-4520-87ab-4fc2f734593d",
   "metadata": {},
   "outputs": [],
   "source": [
    "numbers = [3, 7, 1, 9, 4]\n",
    "maximum = max(numbers)  # Result: 9\n"
   ]
  },
  {
   "cell_type": "markdown",
   "id": "e7bfad7f-7e73-44bc-a615-b0e196191b91",
   "metadata": {},
   "source": [
    "min() Function:\n",
    "\n",
    "Role: The min() function is used to find the minimum (smallest) value among a collection of values. Similar to max(), it can be applied to various data types, including numbers and strings.\n",
    "\n",
    "Typical Use Cases:\n",
    "\n",
    "Finding the minimum element in a list or iterable.\n",
    "Determining the smallest character in a string (based on their Unicode values).\n",
    "Comparing multiple values and retrieving the smallest one."
   ]
  },
  {
   "cell_type": "code",
   "execution_count": 7,
   "id": "cbf9a590-5151-481e-9b92-6a68b97031fc",
   "metadata": {},
   "outputs": [],
   "source": [
    "numbers = [3, 7, 1, 9, 4]\n",
    "minimum = min(numbers)  # Result: 1\n"
   ]
  },
  {
   "cell_type": "markdown",
   "id": "115c6119-e5ec-4c3f-8ff5-82dbd7512370",
   "metadata": {},
   "source": [
    "q.2 Write a Python program that uses the `map()` function to apply a function to each element of a list"
   ]
  },
  {
   "cell_type": "code",
   "execution_count": 8,
   "id": "9b003a04-22b9-4443-9c19-264c932e44c5",
   "metadata": {},
   "outputs": [
    {
     "name": "stdout",
     "output_type": "stream",
     "text": [
      "[1, 4, 9, 16, 25]\n"
     ]
    }
   ],
   "source": [
    "# Define a function to square a number\n",
    "def square(x):\n",
    "    return x ** 2\n",
    "\n",
    "# Create a list of numbers\n",
    "numbers = [1, 2, 3, 4, 5]\n",
    "\n",
    "# Use the map() function to apply the square function to each element in the list\n",
    "squared_numbers = map(square, numbers)\n",
    "\n",
    "# Convert the result to a list (optional, depending on your needs)\n",
    "squared_numbers_list = list(squared_numbers)\n",
    "\n",
    "# Print the squared numbers\n",
    "print(squared_numbers_list)  # Output: [1, 4, 9, 16, 25]\n"
   ]
  },
  {
   "cell_type": "markdown",
   "id": "36ec4f9d-015e-4b19-9a93-492d553dfeda",
   "metadata": {},
   "source": [
    "q.3 How does the `filter()` function work in Python, and when would you use it?\n"
   ]
  },
  {
   "cell_type": "markdown",
   "id": "b04c66e9-8dd7-45e4-9e5c-dbb3cd8e2e73",
   "metadata": {},
   "source": [
    "The filter() function in Python is used to filter elements from an iterable (e.g., a list) based on a specified condition or function. It returns a new iterable containing only the elements that meet the given condition."
   ]
  },
  {
   "cell_type": "markdown",
   "id": "bf52137e-f31f-48d5-bfcb-1877927d80d9",
   "metadata": {},
   "source": [
    "function: A function that defines the filtering condition. It should return either True or False for each element in the iterable, indicating whether the element should be included in the filtered result.\n",
    "\n",
    "iterable: The iterable (e.g., a list) from which you want to filter elements.\n",
    "\n",
    "The filter() function works as follows:\n",
    "\n",
    "It applies the specified function to each element in the iterable.\n",
    "\n",
    "If the function returns True for an element, that element is included in the filtered result.\n",
    "\n",
    "If the function returns False for an element, that element is excluded from the filtered result.\n",
    "\n",
    "Here's an example to illustrate how the filter() function works:"
   ]
  },
  {
   "cell_type": "code",
   "execution_count": 9,
   "id": "ad8d3167-5c9a-4d12-a7e8-4e48ebd01469",
   "metadata": {},
   "outputs": [
    {
     "name": "stdout",
     "output_type": "stream",
     "text": [
      "[2, 4, 6, 8, 10]\n"
     ]
    }
   ],
   "source": [
    "# Define a function to check if a number is even\n",
    "def is_even(x):\n",
    "    return x % 2 == 0\n",
    "\n",
    "# Create a list of numbers\n",
    "numbers = [1, 2, 3, 4, 5, 6, 7, 8, 9, 10]\n",
    "\n",
    "# Use the filter() function to filter even numbers from the list\n",
    "even_numbers = filter(is_even, numbers)\n",
    "\n",
    "# Convert the result to a list (optional, depending on your needs)\n",
    "even_numbers_list = list(even_numbers)\n",
    "\n",
    "# Print the filtered even numbers\n",
    "print(even_numbers_list)  # Output: [2, 4, 6, 8, 10]\n"
   ]
  },
  {
   "cell_type": "markdown",
   "id": "529e5f8c-24f8-4b6c-a515-9f27e1989e15",
   "metadata": {},
   "source": [
    "q.4  Create a Python program that uses the `reduce()` function to find the product of all elements in a list."
   ]
  },
  {
   "cell_type": "code",
   "execution_count": 10,
   "id": "ff85feac-a32c-4dc0-a397-33688a682fd5",
   "metadata": {},
   "outputs": [
    {
     "name": "stdout",
     "output_type": "stream",
     "text": [
      "Product of all elements: 120\n"
     ]
    }
   ],
   "source": [
    "from functools import reduce\n",
    "\n",
    "# Define a function to compute the product of two numbers\n",
    "def multiply(x, y):\n",
    "    return x * y\n",
    "\n",
    "# Create a list of numbers\n",
    "numbers = [1, 2, 3, 4, 5]\n",
    "\n",
    "# Use the reduce() function to find the product of all elements in the list\n",
    "product = reduce(multiply, numbers)\n",
    "\n",
    "# Print the product\n",
    "print(\"Product of all elements:\", product)  # Output: 120\n"
   ]
  },
  {
   "cell_type": "markdown",
   "id": "c7b06032-c40f-436c-b431-28af93d0ebd6",
   "metadata": {},
   "source": [
    "Function Documentation and Best Practices:\n",
    "\n",
    "q.1  Explain the purpose of docstrings in Python functions and how to write them.\n"
   ]
  },
  {
   "cell_type": "markdown",
   "id": "6d8e8e67-b660-4472-942d-2329f9e06b8b",
   "metadata": {},
   "source": [
    "Docstrings in Python are used to provide documentation and descriptions for functions, classes, methods, modules, or even entire Python scripts. They serve as a form of inline documentation that helps developers understand how to use and interact with the code. Docstrings are particularly valuable when writing reusable code that others (or even your future self) will read and use.\n",
    "\n",
    "The primary purposes of docstrings are as follows:\n",
    "\n",
    "Documentation: Docstrings provide clear and concise explanations of what a function does, its input parameters, return values, and any other relevant information. This helps developers understand the purpose and usage of the function without needing to read the entire code.\n",
    "\n",
    "Autogeneration of Documentation: Some documentation generation tools and integrated development environments (IDEs), such as Sphinx and PyCharm, can extract and format docstrings to create comprehensive documentation for your code.\n",
    "\n",
    "Interactive Help: In an interactive Python environment, like the Python REPL or Jupyter Notebook, you can access the docstring of a function by using the help() function or by typing function_name.__doc__. This allows you to quickly access information about a function's usage.\n",
    "\n",
    "Here's how to write docstrings in Python:\n",
    "\n",
    "Function Docstrings:\n",
    "\n",
    "To write a docstring for a function, place a triple-quoted string (either single or double quotes) immediately after the function definition. Typically, the docstring includes a brief description of the function's purpose, input parameters (including their types and meanings), return values (including their types and meanings), and any exceptions the function may raise."
   ]
  },
  {
   "cell_type": "code",
   "execution_count": 11,
   "id": "39151002-4208-4198-94a4-5947c265f1aa",
   "metadata": {},
   "outputs": [],
   "source": [
    "def add(x, y):\n",
    "    \"\"\"\n",
    "    Adds two numbers together.\n",
    "\n",
    "    Args:\n",
    "        x (int): The first number.\n",
    "        y (int): The second number.\n",
    "\n",
    "    Returns:\n",
    "        int: The sum of x and y.\n",
    "    \"\"\"\n",
    "    return x + y\n"
   ]
  },
  {
   "cell_type": "markdown",
   "id": "1b9a34c6-cc2e-4ea8-825e-5ba50558b4b9",
   "metadata": {},
   "source": [
    "Module-Level Docstrings:\n",
    "\n",
    "At the top of a Python module (a .py file), you can include a module-level docstring to provide an overview of the module's purpose and contents. This docstring should be the first statement in the file and is enclosed in triple-quotes."
   ]
  },
  {
   "cell_type": "code",
   "execution_count": 12,
   "id": "236f0e30-5268-4e61-a6cc-0381b6306043",
   "metadata": {},
   "outputs": [
    {
     "data": {
      "text/plain": [
       "'\\nThis module contains utility functions for mathematical operations.\\nAuthor: John Doe\\nDate: 2023-09-21\\n'"
      ]
     },
     "execution_count": 12,
     "metadata": {},
     "output_type": "execute_result"
    }
   ],
   "source": [
    "\"\"\"\n",
    "This module contains utility functions for mathematical operations.\n",
    "Author: John Doe\n",
    "Date: 2023-09-21\n",
    "\"\"\"\n"
   ]
  },
  {
   "cell_type": "markdown",
   "id": "55b358e2-fa3f-4a2a-80ec-277ae251b4f2",
   "metadata": {},
   "source": [
    "Class Docstrings:\n",
    "\n",
    "Class docstrings follow the same triple-quoted format and should be placed immediately after the class definition. They describe the purpose and usage of the class and its methods"
   ]
  },
  {
   "cell_type": "code",
   "execution_count": 13,
   "id": "ab252c77-9862-46be-ac57-a5fde6d398b5",
   "metadata": {},
   "outputs": [],
   "source": [
    "class Calculator:\n",
    "    \"\"\"\n",
    "    A simple calculator class.\n",
    "\n",
    "    This class provides basic arithmetic operations such as addition and subtraction.\n",
    "    \"\"\"\n",
    "    def add(self, x, y):\n",
    "        \"\"\"Add two numbers.\"\"\"\n",
    "        return x + y\n"
   ]
  },
  {
   "cell_type": "markdown",
   "id": "fa9b50cd-5a66-406d-8842-b2cecbf53266",
   "metadata": {},
   "source": [
    "q.2  Describe some best practices for naming functions and variables in Python, including naming conventions and guidelines."
   ]
  },
  {
   "cell_type": "markdown",
   "id": "e7b93852-2fc5-496f-b556-45393f494bd5",
   "metadata": {},
   "source": [
    "Naming functions and variables in Python is a crucial aspect of writing clean and maintainable code. Adhering to naming conventions and guidelines not only makes your code more readable but also helps others understand its purpose. Here are some best practices for naming functions and variables in Python:\n",
    "\n",
    "1. Follow PEP 8: PEP 8 is the official style guide for Python code. It provides comprehensive recommendations for naming conventions. Key points include:\n",
    "\n",
    "Function and variable names should be lowercase, with words separated by underscores (snake_case). For example: calculate_average, user_input.\n",
    "\n",
    "Constants should be in uppercase with underscores separating words (UPPER_CASE). For example: MAX_LENGTH, PI.\n",
    "\n",
    "Class names should use CamelCase (also known as CapWords) where each word within the name starts with a capital letter. For example: MyClass, HttpRequest.\n",
    "\n",
    "Use descriptive and meaningful names that convey the purpose or content of the variable or function.\n",
    "\n",
    "2. Be Descriptive: Choose names that clearly and concisely describe the purpose of the variable or function. Avoid vague or overly short names like a, temp, or foo. Instead, use names like total_price, user_input, or calculate_average.\n",
    "\n",
    "3. Use Verbs and Nouns: For function names, use verbs to describe actions and nouns to represent objects or entities. For example, use calculate_average instead of average_calculation.\n",
    "\n",
    "4. Avoid Single-Letter Names: Unless the variable represents a common mathematical convention (e.g., i for an index), avoid single-letter variable names. Longer, descriptive names are preferred.\n",
    "\n",
    "5. Be Consistent: Maintain consistency in naming across your codebase. If you use a particular naming convention or style for variables and functions, stick to it throughout your project.\n",
    "\n",
    "6. Use Underscores for Private Variables: In Python, there is no strict enforcement of private variables, but a common convention is to prefix private instance variables with a single underscore (e.g., _private_var). For \"stronger\" privacy (name mangling), you can use double underscores (e.g., __private_var).\n",
    "\n",
    "7. Avoid Using Built-in Names: Avoid using names that are identical or similar to Python's built-in functions, keywords, or modules (e.g., don't name a variable list or str).\n",
    "\n",
    "8. Use Meaningful Function Names: Functions should have names that describe their actions or purpose clearly. Avoid overly long function names, but don't sacrifice clarity for brevity.\n",
    "\n",
    "9. Consider Context: Take into account the context in which a variable or function is used. Ensure that the name makes sense in the context of the surrounding code.\n",
    "\n",
    "10. Document Unusual Abbreviations: If you use abbreviations or acronyms in names, document their meanings in comments or docstrings to avoid confusion.\n",
    "\n",
    "11. Reevaluate Names When Refactoring: When you refactor your code, revisit your function and variable names to ensure they still accurately represent the code's intent.\n",
    "\n",
    "12. Use Type Hints: Python 3.5 and later versions support type hints. Use them to indicate the expected types for function arguments and return values. This enhances code readability and helps catch type-related errors."
   ]
  },
  {
   "cell_type": "markdown",
   "id": "235e25da-2019-4fa3-9cd8-b8efbc22793f",
   "metadata": {},
   "source": [
    "17 SEP 2023 ASSIGNMENT COMPLETE"
   ]
  },
  {
   "cell_type": "code",
   "execution_count": null,
   "id": "37f4cd27-025b-40bc-b787-345cda76fba2",
   "metadata": {},
   "outputs": [],
   "source": []
  }
 ],
 "metadata": {
  "kernelspec": {
   "display_name": "Python 3 (ipykernel)",
   "language": "python",
   "name": "python3"
  },
  "language_info": {
   "codemirror_mode": {
    "name": "ipython",
    "version": 3
   },
   "file_extension": ".py",
   "mimetype": "text/x-python",
   "name": "python",
   "nbconvert_exporter": "python",
   "pygments_lexer": "ipython3",
   "version": "3.10.8"
  }
 },
 "nbformat": 4,
 "nbformat_minor": 5
}
